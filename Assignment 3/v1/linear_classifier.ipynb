{
  "cells": [
    {
      "cell_type": "markdown",
      "metadata": {
        "id": "vTOX0d3cmLQf"
      },
      "source": [
        "# Homework 3: Linear classifier"
      ]
    },
    {
      "cell_type": "markdown",
      "metadata": {
        "id": "EQF-05zPh7n2"
      },
      "source": [
        "In this assignment, we will implement linear SVM & Softmax classifiers on the [CIFAR-10 dataset](https://www.cs.toronto.edu/~kriz/cifar.html)."
      ]
    },
    {
      "cell_type": "markdown",
      "metadata": {
        "id": "Cnf0BfHZfWzO"
      },
      "source": [
        "## Google Colab Setup\n",
        "Setup the work environment following Homework 1 (load autoload, mount google drive, set the path)"
      ]
    },
    {
      "cell_type": "markdown",
      "metadata": {
        "id": "FrfeHl_-m4V-"
      },
      "source": [
        "## Setup Code\n",
        "Before getting started, we need to run some boilerplate code to set up our environment, same as Assignment 1. You'll need to rerun this setup code each time you start the notebook.\n",
        "\n",
        "First, run this cell load the autoreload extension. This allows us to edit .py source files, and re-import them into the notebook for a seamless editing and debugging experience."
      ]
    },
    {
      "cell_type": "code",
      "source": [
        "from google.colab import drive\n",
        "drive.mount('/content/drive')\n",
        "\n",
        "# /content/drive/MyDrive/2022-1/deep_learning_lecture/assignment3"
      ],
      "metadata": {
        "colab": {
          "base_uri": "https://localhost:8080/"
        },
        "id": "37rZ4IdJjjnt",
        "outputId": "85e31e75-ff30-410a-911a-5214af6cba7f"
      },
      "execution_count": null,
      "outputs": [
        {
          "output_type": "stream",
          "name": "stdout",
          "text": [
            "Mounted at /content/drive\n"
          ]
        }
      ]
    },
    {
      "cell_type": "code",
      "source": [
        "%cd /content/drive/MyDrive/2022-1/deep_learning_lecture/assignment3"
      ],
      "metadata": {
        "colab": {
          "base_uri": "https://localhost:8080/"
        },
        "id": "aOQJ-_soj3WF",
        "outputId": "6c5fd1a4-f2f8-4fba-c493-a9c8567d7f56"
      },
      "execution_count": null,
      "outputs": [
        {
          "output_type": "stream",
          "name": "stdout",
          "text": [
            "/content/drive/MyDrive/2022-1/deep_learning_lecture/assignment3\n"
          ]
        }
      ]
    },
    {
      "cell_type": "code",
      "source": [
        "%pwd"
      ],
      "metadata": {
        "colab": {
          "base_uri": "https://localhost:8080/",
          "height": 35
        },
        "id": "Jvc2iZnBj4dv",
        "outputId": "33ed9b9a-d85e-4448-d05e-1a0106d7f4b3"
      },
      "execution_count": null,
      "outputs": [
        {
          "output_type": "execute_result",
          "data": {
            "text/plain": [
              "'/content/drive/MyDrive/2022-1/deep_learning_lecture/assignment3'"
            ],
            "application/vnd.google.colaboratory.intrinsic+json": {
              "type": "string"
            }
          },
          "metadata": {},
          "execution_count": 3
        }
      ]
    },
    {
      "cell_type": "code",
      "execution_count": null,
      "metadata": {
        "id": "VyQblYp0nEZq"
      },
      "outputs": [],
      "source": [
        "%load_ext autoreload\n",
        "%autoreload 2"
      ]
    },
    {
      "cell_type": "markdown",
      "metadata": {
        "id": "ynKS05gJ4iBo"
      },
      "source": [
        "# Data preprocessing"
      ]
    },
    {
      "cell_type": "markdown",
      "metadata": {
        "id": "fN1SShPR4lJV"
      },
      "source": [
        "## Setup code\n",
        "Run some setup code for this notebook: Import some useful packages and increase the default figure size."
      ]
    },
    {
      "cell_type": "code",
      "execution_count": null,
      "metadata": {
        "id": "VUCKw4Tl1ddj"
      },
      "outputs": [],
      "source": [
        "import torch\n",
        "import torchvision\n",
        "import matplotlib.pyplot as plt\n",
        "import statistics\n",
        "import random\n",
        "import time\n",
        "import math\n",
        "import os\n",
        "%matplotlib inline\n",
        "\n",
        "\n",
        "plt.rcParams['figure.figsize'] = (10.0, 8.0)\n",
        "plt.rcParams['font.size'] = 16"
      ]
    },
    {
      "cell_type": "markdown",
      "metadata": {
        "id": "B2RXJq1ch7n7"
      },
      "source": [
        "## Random seed\n",
        "We will use random number generation using **torch** and **random**, let's make a function to set the seed for both of them."
      ]
    },
    {
      "cell_type": "code",
      "execution_count": null,
      "metadata": {
        "id": "dyZHDqS9h7n7"
      },
      "outputs": [],
      "source": [
        "def reset_seed(number):\n",
        "  \"\"\"\n",
        "  Reset random seed to the specific number\n",
        "\n",
        "  Inputs:\n",
        "  - number: A seed number to use\n",
        "  \"\"\"\n",
        "  random.seed(number)\n",
        "  torch.manual_seed(number)\n",
        "  return"
      ]
    },
    {
      "cell_type": "markdown",
      "metadata": {
        "id": "lhqpd2IN2O-K"
      },
      "source": [
        "Starting in this assignment, we will use the GPU to accelerate our computation. Run this cell to make sure you are using a GPU."
      ]
    },
    {
      "cell_type": "code",
      "execution_count": null,
      "metadata": {
        "colab": {
          "base_uri": "https://localhost:8080/"
        },
        "id": "v0J7gqC8h7n8",
        "outputId": "e55f4161-2fc1-463a-c852-2795425ad1c6"
      },
      "outputs": [
        {
          "output_type": "stream",
          "name": "stdout",
          "text": [
            "Good to go!\n"
          ]
        }
      ],
      "source": [
        "if torch.cuda.is_available:\n",
        "  print('Good to go!')\n",
        "else:\n",
        "  print('Please set GPU via Edit -> Notebook Settings.')"
      ]
    },
    {
      "cell_type": "code",
      "source": [
        "!nvidia-smi"
      ],
      "metadata": {
        "colab": {
          "base_uri": "https://localhost:8080/"
        },
        "id": "DnmLIPWJjM9N",
        "outputId": "a287bce1-832d-4258-ad88-43fdc499229a"
      },
      "execution_count": null,
      "outputs": [
        {
          "output_type": "stream",
          "name": "stdout",
          "text": [
            "Sat Apr  2 18:54:00 2022       \n",
            "+-----------------------------------------------------------------------------+\n",
            "| NVIDIA-SMI 460.32.03    Driver Version: 460.32.03    CUDA Version: 11.2     |\n",
            "|-------------------------------+----------------------+----------------------+\n",
            "| GPU  Name        Persistence-M| Bus-Id        Disp.A | Volatile Uncorr. ECC |\n",
            "| Fan  Temp  Perf  Pwr:Usage/Cap|         Memory-Usage | GPU-Util  Compute M. |\n",
            "|                               |                      |               MIG M. |\n",
            "|===============================+======================+======================|\n",
            "|   0  Tesla K80           Off  | 00000000:00:04.0 Off |                    0 |\n",
            "| N/A   32C    P8    28W / 149W |      0MiB / 11441MiB |      0%      Default |\n",
            "|                               |                      |                  N/A |\n",
            "+-------------------------------+----------------------+----------------------+\n",
            "                                                                               \n",
            "+-----------------------------------------------------------------------------+\n",
            "| Processes:                                                                  |\n",
            "|  GPU   GI   CI        PID   Type   Process name                  GPU Memory |\n",
            "|        ID   ID                                                   Usage      |\n",
            "|=============================================================================|\n",
            "|  No running processes found                                                 |\n",
            "+-----------------------------------------------------------------------------+\n"
          ]
        }
      ]
    },
    {
      "cell_type": "markdown",
      "metadata": {
        "id": "GSd6jQb4epkC"
      },
      "source": [
        "## Load the CIFAR-10 dataset\n",
        "We will use CIFAR-10 dataset as knn. You can download the CIFAR-10 dataset using `torchvision.datasets.CIFR10`. Let's download it in the new folder `cifar10` on the current directory `./`.\n",
        "\n",
        "Here, we will use numerical gradient to check the analytic gradient. Thus, we use *float64* instead of *float32* to have more exact numbers. It may make the compuation more slow, but more accurate."
      ]
    },
    {
      "cell_type": "code",
      "execution_count": null,
      "metadata": {
        "colab": {
          "base_uri": "https://localhost:8080/"
        },
        "id": "LUpQ_2qPh7n9",
        "outputId": "68e695d0-6832-4e1c-e2c7-4f127ef27909"
      },
      "outputs": [
        {
          "output_type": "stream",
          "name": "stdout",
          "text": [
            "Files already downloaded and verified\n",
            "Files already downloaded and verified\n"
          ]
        }
      ],
      "source": [
        "# Check if it has been downloaded before.\n",
        "\n",
        "from torchvision.datasets import CIFAR10\n",
        "download = not os.path.isdir('cifar10/cifar-10-batches-py')\n",
        "\n",
        "trainset = CIFAR10(root='./cifar10', train=True, download=True)\n",
        "testset =  CIFAR10(root='./cifar10', train=False, download=True)\n",
        "\n",
        "X_train = torch.tensor(trainset.data, dtype=torch.float64).permute(0, 3, 1, 2).div_(255)\n",
        "y_train = torch.tensor(trainset.targets, dtype=torch.int64)\n",
        "\n",
        "X_test = torch.tensor(testset.data, dtype=torch.float64).permute(0, 3, 1, 2).div_(255)\n",
        "y_test = torch.tensor(testset.targets, dtype=torch.int64)\n",
        "class_names = ['plane', 'car', 'bird', 'cat', 'deer', 'dog', 'frog', 'horse', 'ship', 'truck']"
      ]
    },
    {
      "cell_type": "markdown",
      "metadata": {
        "id": "gUeW8ts6h7n9"
      },
      "source": [
        "## Data Preprocessing"
      ]
    },
    {
      "cell_type": "markdown",
      "metadata": {
        "id": "4idKqXoKh7n9"
      },
      "source": [
        "### for GPU computing"
      ]
    },
    {
      "cell_type": "code",
      "execution_count": null,
      "metadata": {
        "id": "PU0V6Ce4h7n-"
      },
      "outputs": [],
      "source": [
        "# Move all the data to the GPU\n",
        "X_train = X_train.cuda()\n",
        "y_train = y_train.cuda()\n",
        "X_test = X_test.cuda()\n",
        "y_test = y_test.cuda()"
      ]
    },
    {
      "cell_type": "markdown",
      "metadata": {
        "id": "v0CwTSxLh7n-"
      },
      "source": [
        "### Normalize & Reshape the data"
      ]
    },
    {
      "cell_type": "code",
      "execution_count": null,
      "metadata": {
        "id": "uiWsndnRh7n-"
      },
      "outputs": [],
      "source": [
        "# 1. Normalize the data: subtract the mean RGB (zero mean)\n",
        "mean_image = X_train.mean(dim=(0, 2, 3), keepdim=True)\n",
        "X_train -= mean_image\n",
        "X_test -= mean_image\n",
        "\n",
        "\n",
        "# 2. Reshape the image data into rows\n",
        "X_train = X_train.reshape(X_train.shape[0], -1)\n",
        "X_test = X_test.reshape(X_test.shape[0], -1)"
      ]
    },
    {
      "cell_type": "code",
      "execution_count": null,
      "metadata": {
        "colab": {
          "base_uri": "https://localhost:8080/",
          "height": 506
        },
        "id": "HwZpCu8bh7n-",
        "outputId": "f43ca9ff-e6dd-43b0-8bf6-c5263dc484d9"
      },
      "outputs": [
        {
          "output_type": "execute_result",
          "data": {
            "text/plain": [
              "<matplotlib.image.AxesImage at 0x7f63aceccb50>"
            ]
          },
          "metadata": {},
          "execution_count": 12
        },
        {
          "output_type": "display_data",
          "data": {
            "text/plain": [
              "<Figure size 720x576 with 1 Axes>"
            ],
            "image/png": "[encoded data removed]"
          },
          "metadata": {
            "needs_background": "light"
          }
        }
      ],
      "source": [
        "temp = X_train[99].clone()\n",
        "temp = temp.reshape(1,3,32,32)\n",
        "#temp += mean_image\n",
        "temp = temp.squeeze()\n",
        "temp = temp.mul(255).add_(0.5).clamp_(0, 255).permute(1, 2, 0)\n",
        "ndarr = temp.to('cpu', torch.uint8).numpy()\n",
        "plt.imshow(ndarr)"
      ]
    },
    {
      "cell_type": "markdown",
      "metadata": {
        "id": "j1HsE35Xh7n_"
      },
      "source": [
        "### Bias Trick\n",
        "In this notebook we will use the **bias trick**: By adding an extra constant feature of ones to each image, we avoid the need to keep track of a bias vector; the bias will be encoded as the part of the weight matrix that interacts with the constant ones in the input."
      ]
    },
    {
      "cell_type": "code",
      "execution_count": null,
      "metadata": {
        "id": "0GBBaD66h7n_"
      },
      "outputs": [],
      "source": [
        "ones_train = torch.ones(X_train.shape[0], 1, device=X_train.device)\n",
        "X_train = torch.cat([X_train, ones_train], dim=1)\n",
        "ones_test = torch.ones(X_test.shape[0], 1, device=X_test.device)\n",
        "X_test = torch.cat([X_test, ones_test], dim=1)"
      ]
    },
    {
      "cell_type": "markdown",
      "metadata": {
        "id": "4h5aCS44h7n_"
      },
      "source": [
        "### Divide the dataset & make a dictionary variable"
      ]
    },
    {
      "cell_type": "code",
      "execution_count": null,
      "metadata": {
        "scrolled": true,
        "id": "7_5F_r0Oh7n_"
      },
      "outputs": [],
      "source": [
        "# Note: It should not be taken from the test set\n",
        "# For random permumation, you can use torch.randperm or torch.randint\n",
        "# But, for this homework, we use slicing instead.\n",
        "validation_ratio = 0.2\n",
        "num_training = int( X_train.shape[0] * (1.0 - validation_ratio) )\n",
        "num_validation = X_train.shape[0] - num_training\n",
        "\n",
        "# return the dataset\n",
        "data_dict = {}\n",
        "data_dict['X_val'] = X_train[num_training:num_training + num_validation]\n",
        "data_dict['y_val'] = y_train[num_training:num_training + num_validation]\n",
        "data_dict['X_train'] = X_train[0:num_training]\n",
        "data_dict['y_train'] = y_train[0:num_training]\n",
        "\n",
        "data_dict['X_test'] = X_test\n",
        "data_dict['y_test'] = y_test\n",
        "\n"
      ]
    },
    {
      "cell_type": "markdown",
      "metadata": {
        "id": "-Yv3zQYw5B3s"
      },
      "source": [
        "## the CIFAR-10 dataset\n",
        "Now you have the the entire CIFAR-10 dataset as a set of six **Torch tensors**:\n",
        "\n",
        "- `X_train` contains all training images (real numbers in the range $[0, 1]$)\n",
        "- `y_train` contains all training labels (integers in the range $[0, 9]$)\n",
        "- `X_val` contains all validation images\n",
        "- `y_val` contains all validation labels\n",
        "- `X_test` contains all test images\n",
        "- `y_test` contains all test labels\n",
        "\n",
        "\n"
      ]
    },
    {
      "cell_type": "code",
      "execution_count": null,
      "metadata": {
        "colab": {
          "base_uri": "https://localhost:8080/"
        },
        "id": "MSLuW5Ogh7oA",
        "outputId": "317363ba-43d2-4e39-cf07-00e784cf87b6"
      },
      "outputs": [
        {
          "output_type": "stream",
          "name": "stdout",
          "text": [
            "Train data shape:  torch.Size([40000, 3073])\n",
            "Train labels shape:  torch.Size([40000])\n",
            "Validation data shape:  torch.Size([10000, 3073])\n",
            "Validation labels shape:  torch.Size([10000])\n",
            "Test data shape:  torch.Size([10000, 3073])\n",
            "Test labels shape:  torch.Size([10000])\n"
          ]
        }
      ],
      "source": [
        "print('Train data shape: ', data_dict['X_train'].shape)\n",
        "print('Train labels shape: ', data_dict['y_train'].shape)\n",
        "print('Validation data shape: ', data_dict['X_val'].shape)\n",
        "print('Validation labels shape: ', data_dict['y_val'].shape)\n",
        "print('Test data shape: ', data_dict['X_test'].shape)\n",
        "print('Test labels shape: ', data_dict['y_test'].shape)"
      ]
    },
    {
      "cell_type": "markdown",
      "metadata": {
        "id": "0Lvdm4fm7iJC"
      },
      "source": [
        "# SVM Classifier\n",
        "\n",
        "In this section, you will:\n",
        "    \n",
        "- implement a fully-vectorized **loss function** for the SVM\n",
        "- implement the fully-vectorized expression for its **analytic gradient**\n",
        "- **check your implementation** using numerical gradient\n",
        "- use a validation set to **tune the learning rate and regularization** strength\n",
        "- **optimize** the loss function with **SGD**\n",
        "- **visualize** the final learned weights\n"
      ]
    },
    {
      "cell_type": "markdown",
      "metadata": {
        "id": "xTI4qN7S9aTr"
      },
      "source": [
        "First, we will test the naive version of svm loss in `linear_classifier.py`. Let's first try the naive implementation of the loss we provided for you. You will get 9.000197. (Note: we've provided the `loss` part of the `svm_loss_naive` function, so you don't need to re-implement in `svm_loss_naive`.)"
      ]
    },
    {
      "cell_type": "code",
      "execution_count": null,
      "metadata": {
        "colab": {
          "base_uri": "https://localhost:8080/"
        },
        "id": "Hxzu2uZq9P8P",
        "outputId": "fc545cf7-e7ca-4949-ae06-735bd21b7cab"
      },
      "outputs": [
        {
          "output_type": "stream",
          "name": "stdout",
          "text": [
            "loss: 9.000197\n"
          ]
        }
      ],
      "source": [
        "from linear_classifier import svm_loss_naive\n",
        "\n",
        "reset_seed(0)\n",
        "# generate a random SVM weight tensor of small numbers\n",
        "W = torch.randn(3073, 10, dtype=data_dict['X_val'].dtype, device=data_dict['X_val'].device) * 0.0001 \n",
        "\n",
        "loss, _grad_ = svm_loss_naive(W, data_dict['X_val'], data_dict['y_val'], 0.000005)\n",
        "print('loss: %f' % (loss, ))"
      ]
    },
    {
      "cell_type": "markdown",
      "metadata": {
        "id": "9LbRTXJ39Yp8"
      },
      "source": [
        "## Numeric gradient chekcing\n",
        "To check that you have implemented the gradient correctly, we will use **numeric gradient checking**: we will use a finite differences approach to numerically estimate the gradient of the forward pass, and compare this numeric gradient to the analytic gradient that you implemented.\n",
        "\n",
        "Since the purpose of it is if the analytic one is correct, we compute only a subset of variables, not all."
      ]
    },
    {
      "cell_type": "code",
      "execution_count": null,
      "metadata": {
        "id": "QPCvubExh7oB"
      },
      "outputs": [],
      "source": [
        "def grad_check_sparse(f, x, analytic_grad, num_checks=10, h=1e-7):\n",
        "  \"\"\"\n",
        "  Utility function to perform numeric gradient checking. We use the centered\n",
        "  difference formula to compute a numeric derivative:\n",
        "  \n",
        "  f'(x) =~ (f(x + h) - f(x - h)) / (2h)\n",
        "\n",
        "  Rather than computing a full numeric gradient, we sparsely sample a few\n",
        "  dimensions along which to compute numeric derivatives.\n",
        "\n",
        "  Inputs:\n",
        "  - f: A function that inputs a torch tensor and returns a torch scalar\n",
        "  - x: A torch tensor giving the point at which to evaluate the numeric gradient\n",
        "  - analytic_grad: A torch tensor giving the analytic gradient of f at x\n",
        "  - num_checks: The number of dimensions along which to check\n",
        "  - h: Step size for computing numeric derivatives\n",
        "  \"\"\"\n",
        "  # fix random seed to 0 \n",
        "  reset_seed(0)\n",
        "  for i in range(num_checks):\n",
        "    \n",
        "    ix = tuple([random.randrange(m) for m in x.shape])\n",
        "    \n",
        "    oldval = x[ix].item()\n",
        "    x[ix] = oldval + h # increment by h\n",
        "    fxph = f(x).item() # evaluate f(x + h)\n",
        "    x[ix] = oldval - h # increment by h\n",
        "    fxmh = f(x).item() # evaluate f(x - h)\n",
        "    x[ix] = oldval     # reset\n",
        "\n",
        "    grad_numerical = (fxph - fxmh) / (2 * h)\n",
        "    grad_analytic = analytic_grad[ix]\n",
        "    rel_error_top = abs(grad_numerical - grad_analytic)\n",
        "    rel_error_bot = (abs(grad_numerical) + abs(grad_analytic) + 1e-12)\n",
        "    rel_error = rel_error_top / rel_error_bot\n",
        "    msg = 'numerical: %f analytic: %f, relative error: %e'\n",
        "    print(msg % (grad_numerical, grad_analytic, rel_error))"
      ]
    },
    {
      "cell_type": "markdown",
      "metadata": {
        "id": "pKc4v6a8XB3T"
      },
      "source": [
        "Now run the following to perform numeric gradient checking on the gradients of your SVM loss.\n",
        "To make ``f`` we can use ``lambda`` function which takes ``w`` as an argument and the output is the loss from ``svm_loss_naive``.\n",
        "\n",
        "You should see relative errors less than `1e-5`."
      ]
    },
    {
      "cell_type": "code",
      "execution_count": null,
      "metadata": {
        "colab": {
          "base_uri": "https://localhost:8080/"
        },
        "id": "o3sMha4i9p_V",
        "outputId": "e8f44b54-d3ee-43e1-f0c3-687909d1be5d"
      },
      "outputs": [
        {
          "output_type": "stream",
          "name": "stdout",
          "text": [
            "numerical: 0.031599 analytic: 0.031599, relative error: 3.284032e-08\n",
            "numerical: 0.111444 analytic: 0.111444, relative error: 3.885912e-08\n",
            "numerical: 0.011204 analytic: 0.011204, relative error: 1.003052e-06\n",
            "numerical: -0.046128 analytic: -0.046128, relative error: 1.109765e-07\n",
            "numerical: 0.071948 analytic: 0.071948, relative error: 2.343481e-08\n",
            "numerical: 0.025688 analytic: 0.025688, relative error: 3.598300e-07\n",
            "numerical: 0.185388 analytic: 0.185388, relative error: 1.691541e-08\n",
            "numerical: -0.021740 analytic: -0.021740, relative error: 3.369463e-07\n",
            "numerical: -0.159613 analytic: -0.159613, relative error: 7.494506e-08\n",
            "numerical: 0.092690 analytic: 0.092690, relative error: 7.903048e-08\n"
          ]
        }
      ],
      "source": [
        "from linear_classifier import svm_loss_naive\n",
        "\n",
        "# Once you've implemented the gradient, recompute it with the code below\n",
        "# and gradient check it with the function we provided for you\n",
        "\n",
        "# Use a random W and a minibatch of data from the val set for gradient checking\n",
        "# For numeric gradient checking it is a good idea to use 64-bit floating point\n",
        "# numbers for increased numeric precision; however when actually training models\n",
        "# we usually use 32-bit floating point numbers for increased speed.\n",
        "reset_seed(0)\n",
        "W = 0.0001 * torch.randn(3073, 10, dtype=data_dict['X_val'].dtype, device=data_dict['X_val'].device)\n",
        "batch_size = 64\n",
        "X_batch = data_dict['X_val'][:batch_size]\n",
        "y_batch = data_dict['y_val'][:batch_size]\n",
        "\n",
        "# Compute the loss and its gradient at W.\n",
        "# YOUR_TURN: implement the gradient part of 'svm_loss_naive' function in \"linear_classifier.py\"\n",
        "_, grad = svm_loss_naive(W, X_batch, y_batch, reg=0.0)\n",
        "\n",
        "# Numerically compute the gradient along several randomly chosen dimensions, and\n",
        "# compare them with your analytically computed gradient. The numbers should\n",
        "# match almost exactly along all dimensions.\n",
        "f = lambda w: svm_loss_naive(w, X_batch, y_batch, reg=0.0)[0]\n",
        "grad_numerical = grad_check_sparse(f, W, grad)"
      ]
    },
    {
      "cell_type": "markdown",
      "metadata": {
        "id": "lSdsG-L292Ww"
      },
      "source": [
        "Let's do the gradient check once again with regularization turned on. (You didn't forget the regularization gradient, did you?)\n",
        "\n",
        "You should see relative errors less than `1e-5`."
      ]
    },
    {
      "cell_type": "code",
      "execution_count": null,
      "metadata": {
        "colab": {
          "base_uri": "https://localhost:8080/"
        },
        "id": "bH6lXxVn9xZk",
        "outputId": "f58a9dbf-4b12-4a33-af26-fe850e652dcf"
      },
      "outputs": [
        {
          "output_type": "stream",
          "name": "stdout",
          "text": [
            "numerical: 0.124849 analytic: 0.124849, relative error: 8.624380e-09\n",
            "numerical: 0.168915 analytic: 0.168915, relative error: 5.957873e-09\n",
            "numerical: 0.148752 analytic: 0.148752, relative error: 8.733009e-08\n",
            "numerical: -0.024936 analytic: -0.024936, relative error: 2.914771e-07\n",
            "numerical: -0.008570 analytic: -0.008570, relative error: 1.992936e-07\n",
            "numerical: -0.103155 analytic: -0.103155, relative error: 7.767232e-08\n",
            "numerical: -0.335573 analytic: -0.335573, relative error: 8.761360e-09\n",
            "numerical: -0.222176 analytic: -0.222176, relative error: 4.264915e-08\n",
            "numerical: 0.681163 analytic: 0.681163, relative error: 1.372259e-08\n",
            "numerical: -0.004089 analytic: -0.004089, relative error: 1.070195e-06\n"
          ]
        }
      ],
      "source": [
        "from linear_classifier import svm_loss_naive\n",
        "\n",
        "# Use a minibatch of data from the val set for gradient checking\n",
        "reset_seed(0)\n",
        "W = 0.0001 * torch.randn(3073, 10, dtype=data_dict['X_val'].dtype, device=data_dict['X_val'].device)\n",
        "batch_size = 64\n",
        "X_batch = data_dict['X_val'][:batch_size]\n",
        "y_batch = data_dict['y_val'][:batch_size]\n",
        "\n",
        "# Compute the loss and its gradient at W.\n",
        "# YOUR_TURN: check your 'svm_loss_naive' implementation with different 'reg'\n",
        "_, grad = svm_loss_naive(W, X_batch, y_batch, reg=1e3) \n",
        "\n",
        "# Numerically compute the gradient along several randomly chosen dimensions, and\n",
        "# compare them with your analytically computed gradient. The numbers should\n",
        "# match almost exactly along all dimensions.\n",
        "f = lambda w: svm_loss_naive(w, X_batch, y_batch, reg=1e3)[0]\n",
        "grad_numerical = grad_check_sparse(f, W, grad)"
      ]
    },
    {
      "cell_type": "markdown",
      "metadata": {
        "id": "sc5Wtu-e-WlI"
      },
      "source": [
        "Now, let's implement vectorized version of SVM: `svm_loss_vectorized`. It should compute the same inputs and outputs as the naive version before, but it should involve **no explicit loops**.\n",
        "\n",
        "Let's first check the speed and performance bewteen the non-vectorized and the vectorized version. You should see a 15-120x speedup. PyTorch does some extra setup the first time you run CUDA code, so **you may need to run this cell more than once to see the desired speedup**.\n",
        "\n",
        "(Note: It may have some difference, but should be less than 1e-6)"
      ]
    },
    {
      "cell_type": "code",
      "execution_count": null,
      "metadata": {
        "id": "pBLqLTAGo1Rs",
        "colab": {
          "base_uri": "https://localhost:8080/"
        },
        "outputId": "dcf75232-ede6-42aa-aeff-e3a3c7768463"
      },
      "outputs": [
        {
          "output_type": "stream",
          "name": "stdout",
          "text": [
            "Naive loss: 9.000295e+00 computed in 370.17ms\n",
            "Vectorized loss: 9.000295e+00 computed in 26.15ms\n",
            "Difference: 1.42e-14\n",
            "Speedup: 14.16X\n"
          ]
        }
      ],
      "source": [
        "from linear_classifier import svm_loss_naive, svm_loss_vectorized\n",
        "\n",
        "# Use random weights and a minibatch of val data for gradient checking\n",
        "reset_seed(0)\n",
        "W = 0.0001 * torch.randn(3073, 10, dtype=data_dict['X_val'].dtype, device=data_dict['X_val'].device)\n",
        "X_batch = data_dict['X_val'][:128]\n",
        "y_batch = data_dict['y_val'][:128]\n",
        "reg = 0.000005\n",
        "\n",
        "# Run and time the naive version\n",
        "torch.cuda.synchronize()\n",
        "tic = time.time()\n",
        "loss_naive, grad_naive = svm_loss_naive(W, X_batch, y_batch, reg)\n",
        "torch.cuda.synchronize()\n",
        "toc = time.time()\n",
        "ms_naive = 1000.0 * (toc - tic)\n",
        "print('Naive loss: %e computed in %.2fms' % (loss_naive, ms_naive))\n",
        "\n",
        "# Run and time the vectorized version\n",
        "torch.cuda.synchronize()\n",
        "tic = time.time()\n",
        "# YOUR_TURN: implement the loss part of 'svm_loss_vectorized' function in \"linear_classifier.py\"\n",
        "loss_vec, _ = svm_loss_vectorized(W, X_batch, y_batch, reg)\n",
        "torch.cuda.synchronize()\n",
        "toc = time.time()\n",
        "ms_vec = 1000.0 * (toc - tic)\n",
        "print('Vectorized loss: %e computed in %.2fms' % (loss_vec, ms_vec))\n",
        "\n",
        "# The losses should match but your vectorized implementation should be much faster.\n",
        "print('Difference: %.2e' % (loss_naive - loss_vec))\n",
        "print('Speedup: %.2fX' % (ms_naive / ms_vec))"
      ]
    },
    {
      "cell_type": "markdown",
      "metadata": {
        "id": "cRDPpAMl-0WD"
      },
      "source": [
        "Then, let's compute the gradient of the loss function. We can check the difference of gradient as well. (The error should be less than 1e-6)\n",
        "\n",
        "Now implement a vectorized version of the gradient computation in `svm_loss_vectorize` above. Run the cell below to compare the gradient of your naive and vectorized implementations. The difference between the gradients should be less than `1e-6`, and the vectorized version should run 15-120x faster.\n"
      ]
    },
    {
      "cell_type": "code",
      "execution_count": null,
      "metadata": {
        "id": "3_SyWrTJ-OfX",
        "colab": {
          "base_uri": "https://localhost:8080/"
        },
        "outputId": "38b661fd-245b-4bad-fc35-35dd6e53c8d2"
      },
      "outputs": [
        {
          "output_type": "stream",
          "name": "stdout",
          "text": [
            "Naive loss and gradient: computed in 364.98ms\n",
            "Vectorized loss and gradient: computed in 1.72ms\n",
            "Gradient difference: 1.82e-14\n",
            "Speedup: 212.68X\n"
          ]
        }
      ],
      "source": [
        "# The naive implementation and the vectorized implementation should match, but\n",
        "# the vectorized version should still be much faster.\n",
        "\n",
        "from linear_classifier import svm_loss_naive, svm_loss_vectorized\n",
        "\n",
        "# Use random weights and a minibatch of val data for gradient checking\n",
        "reset_seed(0)\n",
        "W = 0.0001 * torch.randn(3073, 10, dtype=data_dict['X_val'].dtype, device=data_dict['X_val'].device)\n",
        "X_batch = data_dict['X_val'][:128]\n",
        "y_batch = data_dict['y_val'][:128]\n",
        "reg = 0.000005\n",
        "\n",
        "# Run and time the naive version\n",
        "torch.cuda.synchronize()\n",
        "tic = time.time()\n",
        "_, grad_naive = svm_loss_naive(W, X_batch, y_batch, 0.000005)\n",
        "torch.cuda.synchronize()\n",
        "toc = time.time()\n",
        "ms_naive = 1000.0 * (toc - tic)\n",
        "print('Naive loss and gradient: computed in %.2fms' % ms_naive)\n",
        "\n",
        "# Run and time the vectorized version\n",
        "torch.cuda.synchronize()\n",
        "tic = time.time()\n",
        "# YOUR_TURN: implement the gradient part of 'svm_loss_vectorized' function in \"linear_classifier.py\"\n",
        "_, grad_vec = svm_loss_vectorized(W, X_batch, y_batch, 0.000005)\n",
        "torch.cuda.synchronize()\n",
        "toc = time.time()\n",
        "ms_vec = 1000.0 * (toc - tic)\n",
        "print('Vectorized loss and gradient: computed in %.2fms' % ms_vec)\n",
        "\n",
        "# The loss is a single number, so it is easy to compare the values computed\n",
        "# by the two implementations. The gradient on the other hand is a tensor, so\n",
        "# we use the Frobenius norm to compare them.\n",
        "grad_difference = torch.norm(grad_naive - grad_vec, p='fro')\n",
        "print('Gradient difference: %.2e' % grad_difference)\n",
        "print('Speedup: %.2fX' % (ms_naive / ms_vec))"
      ]
    },
    {
      "cell_type": "markdown",
      "metadata": {
        "id": "uU852IitCtrC"
      },
      "source": [
        "Now that we have an efficient vectorized implementation of the SVM loss and its gradient, we can implement a training pipeline for linear classifiers.\n",
        "\n",
        "Please complete the implementation of `train_linear_classifier` in `linear_classifer.py`.\n"
      ]
    },
    {
      "cell_type": "markdown",
      "metadata": {
        "id": "c6IL1_D9wCbF"
      },
      "source": [
        "Once you have implemented the training function, run the following cell to train a linear classifier using some default hyperparameters:\n",
        "\n",
        "(You should see a final loss close to 9.0, and your training loop should run in about two seconds)"
      ]
    },
    {
      "cell_type": "code",
      "execution_count": null,
      "metadata": {
        "id": "QaEZkCe3-kOu",
        "colab": {
          "base_uri": "https://localhost:8080/"
        },
        "outputId": "06360c3d-b103-4dc8-d889-5eabaa65edbb"
      },
      "outputs": [
        {
          "output_type": "stream",
          "name": "stdout",
          "text": [
            "iteration 0 / 1500: loss 9.000779\n",
            "iteration 100 / 1500: loss 9.000756\n",
            "iteration 200 / 1500: loss 9.000775\n",
            "iteration 300 / 1500: loss 9.000751\n",
            "iteration 400 / 1500: loss 9.000766\n",
            "iteration 500 / 1500: loss 9.000764\n",
            "iteration 600 / 1500: loss 9.000764\n",
            "iteration 700 / 1500: loss 9.000760\n",
            "iteration 800 / 1500: loss 9.000756\n",
            "iteration 900 / 1500: loss 9.000758\n",
            "iteration 1000 / 1500: loss 9.000762\n",
            "iteration 1100 / 1500: loss 9.000778\n",
            "iteration 1200 / 1500: loss 9.000770\n",
            "iteration 1300 / 1500: loss 9.000762\n",
            "iteration 1400 / 1500: loss 9.000768\n",
            "That took 2.137632s\n"
          ]
        }
      ],
      "source": [
        "from linear_classifier import svm_loss_vectorized, train_linear_classifier\n",
        "\n",
        "# fix random seed before we perform this operation\n",
        "reset_seed(0)\n",
        "\n",
        "torch.cuda.synchronize()\n",
        "tic = time.time()\n",
        "\n",
        "# YOUR_TURN: Implement how to construct the batch, \n",
        "#            and how to update the weight in 'train_linear_classifier'\n",
        "W, loss_hist = train_linear_classifier(svm_loss_vectorized, None, \n",
        "                                       data_dict['X_train'], \n",
        "                                       data_dict['y_train'], \n",
        "                                       learning_rate=3e-11, reg=2.5e4,\n",
        "                                       num_iters=1500, verbose=True)\n",
        "\n",
        "torch.cuda.synchronize()\n",
        "toc = time.time()\n",
        "print('That took %fs' % (toc - tic))"
      ]
    },
    {
      "cell_type": "markdown",
      "metadata": {
        "id": "n8mz9aXfDrsF"
      },
      "source": [
        "A useful debugging strategy is to plot the loss as a function of iteration number. In this case it seems our hyperparameters are not good, since the training loss is not decreasing very fast.\n",
        "\n"
      ]
    },
    {
      "cell_type": "code",
      "execution_count": null,
      "metadata": {
        "id": "JJ8GjaZS_MLe",
        "colab": {
          "base_uri": "https://localhost:8080/",
          "height": 522
        },
        "outputId": "6fdbc583-6b9e-4aea-bd6c-7cae16046ea6"
      },
      "outputs": [
        {
          "output_type": "display_data",
          "data": {
            "text/plain": [
              "<Figure size 720x576 with 1 Axes>"
            ],
            "image/png": "[encoded data removed]"
          },
          "metadata": {
            "needs_background": "light"
          }
        }
      ],
      "source": [
        "plt.plot(loss_hist, 'o')\n",
        "plt.xlabel('Iteration number')\n",
        "plt.ylabel('Loss value')\n",
        "plt.show()"
      ]
    },
    {
      "cell_type": "markdown",
      "metadata": {
        "id": "DRdfknKsE6F2"
      },
      "source": [
        "Then, let's move on to the prediction stage. We can evaluate the performance our trained model on both the training and validation set. You should see validation accuracy less than 20%."
      ]
    },
    {
      "cell_type": "code",
      "execution_count": null,
      "metadata": {
        "id": "YfToPzce_OBH",
        "colab": {
          "base_uri": "https://localhost:8080/"
        },
        "outputId": "a1808006-4e54-4f28-80df-1eec89ca0690"
      },
      "outputs": [
        {
          "output_type": "stream",
          "name": "stdout",
          "text": [
            "Training accuracy: 9.29%\n",
            "Validation accuracy: 9.24%\n"
          ]
        }
      ],
      "source": [
        "from linear_classifier import predict_linear_classifier\n",
        "\n",
        "# fix random seed before we perform this operation\n",
        "reset_seed(0)\n",
        "\n",
        "# evaluate the performance on both the training and validation set\n",
        "# YOUR_TURN: Implement how to make a prediction with the trained weight \n",
        "#            in 'predict_linear_classifier'\n",
        "y_train_pred = predict_linear_classifier(W, data_dict['X_train'])\n",
        "train_acc = 100.0 * (data_dict['y_train'] == y_train_pred).double().mean().item()\n",
        "print('Training accuracy: %.2f%%' % train_acc)\n",
        "\n",
        "y_val_pred = predict_linear_classifier(W, data_dict['X_val'])\n",
        "val_acc = 100.0 * (data_dict['y_val'] == y_val_pred).double().mean().item()\n",
        "print('Validation accuracy: %.2f%%' % val_acc)"
      ]
    },
    {
      "cell_type": "markdown",
      "metadata": {
        "id": "VWIyGnMOFOV8"
      },
      "source": [
        "Unfortunately, the performance of our initial model is quite bad. To find a better hyperparamters, we first modulized the functions that we've implemented as LinearSVM."
      ]
    },
    {
      "cell_type": "markdown",
      "metadata": {
        "id": "taNmjt2wGJQr"
      },
      "source": [
        "Now, please use the validation set to tune hyperparameters (regularization strength and learning rate). You should experiment with different ranges for the learning rates and regularization strengths.\n",
        "\n",
        "To get full credit for the assignment your best model found through cross-validation should achieve an accuracy of at least 37% on the validation set.\n",
        "\n",
        "(Our best model got over 38.1% -- did you beat us?)"
      ]
    },
    {
      "cell_type": "code",
      "execution_count": null,
      "metadata": {
        "id": "oVMsJ9Ti_Ude",
        "colab": {
          "base_uri": "https://localhost:8080/"
        },
        "outputId": "845e7515-b44e-4c22-c870-ee603f135056"
      },
      "outputs": [
        {
          "output_type": "stream",
          "name": "stdout",
          "text": [
            "Training SVM 1 / 12 with learning_rate=1.000000e-01 and reg=1.000000e-01\n",
            "Training SVM 2 / 12 with learning_rate=1.000000e-01 and reg=1.000000e-02\n",
            "Training SVM 3 / 12 with learning_rate=1.000000e-01 and reg=1.000000e-03\n",
            "Training SVM 4 / 12 with learning_rate=1.000000e-02 and reg=1.000000e-01\n",
            "Training SVM 5 / 12 with learning_rate=1.000000e-02 and reg=1.000000e-02\n",
            "Training SVM 6 / 12 with learning_rate=1.000000e-02 and reg=1.000000e-03\n",
            "Training SVM 7 / 12 with learning_rate=1.000000e-03 and reg=1.000000e-01\n",
            "Training SVM 8 / 12 with learning_rate=1.000000e-03 and reg=1.000000e-02\n",
            "Training SVM 9 / 12 with learning_rate=1.000000e-03 and reg=1.000000e-03\n",
            "Training SVM 10 / 12 with learning_rate=1.000000e-04 and reg=1.000000e-01\n",
            "Training SVM 11 / 12 with learning_rate=1.000000e-04 and reg=1.000000e-02\n",
            "Training SVM 12 / 12 with learning_rate=1.000000e-04 and reg=1.000000e-03\n",
            "lr 1.000000e-04 reg 1.000000e-03 train accuracy: 0.258075 val accuracy: 0.261300\n",
            "lr 1.000000e-04 reg 1.000000e-02 train accuracy: 0.258075 val accuracy: 0.261300\n",
            "lr 1.000000e-04 reg 1.000000e-01 train accuracy: 0.258075 val accuracy: 0.261300\n",
            "lr 1.000000e-03 reg 1.000000e-03 train accuracy: 0.311425 val accuracy: 0.310300\n",
            "lr 1.000000e-03 reg 1.000000e-02 train accuracy: 0.311875 val accuracy: 0.310600\n",
            "lr 1.000000e-03 reg 1.000000e-01 train accuracy: 0.311275 val accuracy: 0.309100\n",
            "lr 1.000000e-02 reg 1.000000e-03 train accuracy: 0.325425 val accuracy: 0.319500\n",
            "lr 1.000000e-02 reg 1.000000e-02 train accuracy: 0.328225 val accuracy: 0.316900\n",
            "lr 1.000000e-02 reg 1.000000e-01 train accuracy: 0.327150 val accuracy: 0.318200\n",
            "lr 1.000000e-01 reg 1.000000e-03 train accuracy: 0.248875 val accuracy: 0.237300\n",
            "lr 1.000000e-01 reg 1.000000e-02 train accuracy: 0.265925 val accuracy: 0.259700\n",
            "lr 1.000000e-01 reg 1.000000e-01 train accuracy: 0.229575 val accuracy: 0.225200\n",
            "best validation accuracy achieved during cross-validation: 0.319500\n",
            "Saved in /content/drive/MyDrive/2022-1/deep_learning_lecture/assignment3/svm_best_model.pt\n"
          ]
        }
      ],
      "source": [
        "import os\n",
        "from linear_classifier import LinearSVM, svm_get_search_params, test_one_param_set\n",
        "\n",
        "# YOUR_TURN: find the best learning_rates and regularization_strengths combination\n",
        "#            in 'svm_get_search_params'\n",
        "learning_rates, regularization_strengths = svm_get_search_params()\n",
        "num_models = len(learning_rates) * len(regularization_strengths)\n",
        "\n",
        "####\n",
        "# It is okay to comment out the following conditions when you are working on svm_get_search_params.\n",
        "# But, please do not forget to reset back to the original setting once you are done.\n",
        "if num_models > 25:\n",
        "  raise Exception(\"Please do not test/submit more than 25 items at once\")\n",
        "elif num_models < 5:\n",
        "  raise Exception(\"Please present at least 5 parameter sets in your final ipynb\")\n",
        "####\n",
        "\n",
        "\n",
        "i = 0\n",
        "# results is dictionary mapping tuples of the form\n",
        "# (learning_rate, regularization_strength) to tuples of the form\n",
        "# (train_acc, val_acc). \n",
        "results = {}\n",
        "best_val = -1.0   # The highest validation accuracy that we have seen so far.\n",
        "best_svm_model = None # The LinearSVM object that achieved the highest validation rate.\n",
        "num_iters = 2000 # number of iterations\n",
        "\n",
        "for lr in learning_rates:\n",
        "  for reg in regularization_strengths:\n",
        "    i += 1\n",
        "    print('Training SVM %d / %d with learning_rate=%e and reg=%e'\n",
        "          % (i, num_models, lr, reg))\n",
        "    \n",
        "    reset_seed(0)\n",
        "    # YOUR_TURN: implement a function that gives the trained model with \n",
        "    #            train/validation accuracies in 'test_one_param_set'\n",
        "    #            (note: this function will be used in Softmax Classifier section as well)\n",
        "    cand_svm_model, cand_train_acc, cand_val_acc = test_one_param_set(LinearSVM(), data_dict, lr, reg, num_iters)\n",
        "\n",
        "    if cand_val_acc > best_val:\n",
        "      best_val = cand_val_acc\n",
        "      best_svm_model = cand_svm_model # save the svm\n",
        "    results[(lr, reg)] = (cand_train_acc, cand_val_acc)\n",
        "\n",
        "\n",
        "# Print out results.\n",
        "for lr, reg in sorted(results):\n",
        "  train_acc, val_acc = results[(lr, reg)]\n",
        "  print('lr %e reg %e train accuracy: %f val accuracy: %f' % (\n",
        "         lr, reg, train_acc, val_acc))\n",
        "    \n",
        "print('best validation accuracy achieved during cross-validation: %f' % best_val)\n",
        "\n",
        "# save the best model\n",
        "\n",
        "GOOGLE_DRIVE_PATH = '/content/drive/MyDrive/2022-1/deep_learning_lecture/assignment3'\n",
        "\n",
        "path = os.path.join(GOOGLE_DRIVE_PATH, 'svm_best_model.pt')\n",
        "best_svm_model.save(path)"
      ]
    },
    {
      "cell_type": "code",
      "execution_count": null,
      "metadata": {
        "id": "nXDUoi1Sh7oE"
      },
      "outputs": [],
      "source": [
        "# save the best model\n",
        "#path = os.path.join('./', 'svm_best_model.pt')\n",
        "#best_svm_model.save(path)"
      ]
    },
    {
      "cell_type": "markdown",
      "metadata": {
        "id": "wBbvJvMeGZ-7"
      },
      "source": [
        "Visualize the cross-validation results. You can use this as a debugging tool -- after examining the cross-validation results here, you may want to go back and rerun your cross-validation from above."
      ]
    },
    {
      "cell_type": "code",
      "execution_count": null,
      "metadata": {
        "id": "QbPffK9H_ZGj",
        "colab": {
          "base_uri": "https://localhost:8080/",
          "height": 873
        },
        "outputId": "6983faa7-baef-470c-c5c2-9d928dc8a3cf"
      },
      "outputs": [
        {
          "output_type": "error",
          "ename": "TypeError",
          "evalue": "ignored",
          "traceback": [
            "\u001b[0;31m---------------------------------------------------------------------------\u001b[0m",
            "\u001b[0;31mTypeError\u001b[0m                                 Traceback (most recent call last)",
            "\u001b[0;32m<ipython-input-28-05e9f0459e7e>\u001b[0m in \u001b[0;36m<module>\u001b[0;34m()\u001b[0m\n\u001b[1;32m      5\u001b[0m \u001b[0mmarker_size\u001b[0m \u001b[0;34m=\u001b[0m \u001b[0;36m100\u001b[0m\u001b[0;34m\u001b[0m\u001b[0;34m\u001b[0m\u001b[0m\n\u001b[1;32m      6\u001b[0m \u001b[0mcolors\u001b[0m \u001b[0;34m=\u001b[0m \u001b[0;34m[\u001b[0m\u001b[0mresults\u001b[0m\u001b[0;34m[\u001b[0m\u001b[0mx\u001b[0m\u001b[0;34m]\u001b[0m\u001b[0;34m[\u001b[0m\u001b[0;36m0\u001b[0m\u001b[0;34m]\u001b[0m \u001b[0;32mfor\u001b[0m \u001b[0mx\u001b[0m \u001b[0;32min\u001b[0m \u001b[0mresults\u001b[0m\u001b[0;34m]\u001b[0m\u001b[0;34m\u001b[0m\u001b[0;34m\u001b[0m\u001b[0m\n\u001b[0;32m----> 7\u001b[0;31m \u001b[0mplt\u001b[0m\u001b[0;34m.\u001b[0m\u001b[0mscatter\u001b[0m\u001b[0;34m(\u001b[0m\u001b[0mx_scatter\u001b[0m\u001b[0;34m,\u001b[0m \u001b[0my_scatter\u001b[0m\u001b[0;34m,\u001b[0m \u001b[0mmarker_size\u001b[0m\u001b[0;34m,\u001b[0m \u001b[0mc\u001b[0m\u001b[0;34m=\u001b[0m\u001b[0mcolors\u001b[0m\u001b[0;34m,\u001b[0m \u001b[0mcmap\u001b[0m\u001b[0;34m=\u001b[0m\u001b[0;34m'viridis'\u001b[0m\u001b[0;34m)\u001b[0m\u001b[0;34m\u001b[0m\u001b[0;34m\u001b[0m\u001b[0m\n\u001b[0m\u001b[1;32m      8\u001b[0m \u001b[0mplt\u001b[0m\u001b[0;34m.\u001b[0m\u001b[0mcolorbar\u001b[0m\u001b[0;34m(\u001b[0m\u001b[0;34m)\u001b[0m\u001b[0;34m\u001b[0m\u001b[0;34m\u001b[0m\u001b[0m\n\u001b[1;32m      9\u001b[0m \u001b[0mplt\u001b[0m\u001b[0;34m.\u001b[0m\u001b[0mxlabel\u001b[0m\u001b[0;34m(\u001b[0m\u001b[0;34m'log learning rate'\u001b[0m\u001b[0;34m)\u001b[0m\u001b[0;34m\u001b[0m\u001b[0;34m\u001b[0m\u001b[0m\n",
            "\u001b[0;32m/usr/local/lib/python3.7/dist-packages/matplotlib/pyplot.py\u001b[0m in \u001b[0;36mscatter\u001b[0;34m(x, y, s, c, marker, cmap, norm, vmin, vmax, alpha, linewidths, verts, edgecolors, plotnonfinite, data, **kwargs)\u001b[0m\n\u001b[1;32m   2814\u001b[0m         \u001b[0mverts\u001b[0m\u001b[0;34m=\u001b[0m\u001b[0mverts\u001b[0m\u001b[0;34m,\u001b[0m \u001b[0medgecolors\u001b[0m\u001b[0;34m=\u001b[0m\u001b[0medgecolors\u001b[0m\u001b[0;34m,\u001b[0m\u001b[0;34m\u001b[0m\u001b[0;34m\u001b[0m\u001b[0m\n\u001b[1;32m   2815\u001b[0m         plotnonfinite=plotnonfinite, **({\"data\": data} if data is not\n\u001b[0;32m-> 2816\u001b[0;31m         None else {}), **kwargs)\n\u001b[0m\u001b[1;32m   2817\u001b[0m     \u001b[0msci\u001b[0m\u001b[0;34m(\u001b[0m\u001b[0m__ret\u001b[0m\u001b[0;34m)\u001b[0m\u001b[0;34m\u001b[0m\u001b[0;34m\u001b[0m\u001b[0m\n\u001b[1;32m   2818\u001b[0m     \u001b[0;32mreturn\u001b[0m \u001b[0m__ret\u001b[0m\u001b[0;34m\u001b[0m\u001b[0;34m\u001b[0m\u001b[0m\n",
            "\u001b[0;32m/usr/local/lib/python3.7/dist-packages/matplotlib/__init__.py\u001b[0m in \u001b[0;36minner\u001b[0;34m(ax, data, *args, **kwargs)\u001b[0m\n\u001b[1;32m   1563\u001b[0m     \u001b[0;32mdef\u001b[0m \u001b[0minner\u001b[0m\u001b[0;34m(\u001b[0m\u001b[0max\u001b[0m\u001b[0;34m,\u001b[0m \u001b[0;34m*\u001b[0m\u001b[0margs\u001b[0m\u001b[0;34m,\u001b[0m \u001b[0mdata\u001b[0m\u001b[0;34m=\u001b[0m\u001b[0;32mNone\u001b[0m\u001b[0;34m,\u001b[0m \u001b[0;34m**\u001b[0m\u001b[0mkwargs\u001b[0m\u001b[0;34m)\u001b[0m\u001b[0;34m:\u001b[0m\u001b[0;34m\u001b[0m\u001b[0;34m\u001b[0m\u001b[0m\n\u001b[1;32m   1564\u001b[0m         \u001b[0;32mif\u001b[0m \u001b[0mdata\u001b[0m \u001b[0;32mis\u001b[0m \u001b[0;32mNone\u001b[0m\u001b[0;34m:\u001b[0m\u001b[0;34m\u001b[0m\u001b[0;34m\u001b[0m\u001b[0m\n\u001b[0;32m-> 1565\u001b[0;31m             \u001b[0;32mreturn\u001b[0m \u001b[0mfunc\u001b[0m\u001b[0;34m(\u001b[0m\u001b[0max\u001b[0m\u001b[0;34m,\u001b[0m \u001b[0;34m*\u001b[0m\u001b[0mmap\u001b[0m\u001b[0;34m(\u001b[0m\u001b[0msanitize_sequence\u001b[0m\u001b[0;34m,\u001b[0m \u001b[0margs\u001b[0m\u001b[0;34m)\u001b[0m\u001b[0;34m,\u001b[0m \u001b[0;34m**\u001b[0m\u001b[0mkwargs\u001b[0m\u001b[0;34m)\u001b[0m\u001b[0;34m\u001b[0m\u001b[0;34m\u001b[0m\u001b[0m\n\u001b[0m\u001b[1;32m   1566\u001b[0m \u001b[0;34m\u001b[0m\u001b[0m\n\u001b[1;32m   1567\u001b[0m         \u001b[0mbound\u001b[0m \u001b[0;34m=\u001b[0m \u001b[0mnew_sig\u001b[0m\u001b[0;34m.\u001b[0m\u001b[0mbind\u001b[0m\u001b[0;34m(\u001b[0m\u001b[0max\u001b[0m\u001b[0;34m,\u001b[0m \u001b[0;34m*\u001b[0m\u001b[0margs\u001b[0m\u001b[0;34m,\u001b[0m \u001b[0;34m**\u001b[0m\u001b[0mkwargs\u001b[0m\u001b[0;34m)\u001b[0m\u001b[0;34m\u001b[0m\u001b[0;34m\u001b[0m\u001b[0m\n",
            "\u001b[0;32m/usr/local/lib/python3.7/dist-packages/matplotlib/cbook/deprecation.py\u001b[0m in \u001b[0;36mwrapper\u001b[0;34m(*args, **kwargs)\u001b[0m\n\u001b[1;32m    356\u001b[0m                 \u001b[0;34mf\"%(removal)s.  If any parameter follows {name!r}, they \"\u001b[0m\u001b[0;34m\u001b[0m\u001b[0;34m\u001b[0m\u001b[0m\n\u001b[1;32m    357\u001b[0m                 f\"should be pass as keyword, not positionally.\")\n\u001b[0;32m--> 358\u001b[0;31m         \u001b[0;32mreturn\u001b[0m \u001b[0mfunc\u001b[0m\u001b[0;34m(\u001b[0m\u001b[0;34m*\u001b[0m\u001b[0margs\u001b[0m\u001b[0;34m,\u001b[0m \u001b[0;34m**\u001b[0m\u001b[0mkwargs\u001b[0m\u001b[0;34m)\u001b[0m\u001b[0;34m\u001b[0m\u001b[0;34m\u001b[0m\u001b[0m\n\u001b[0m\u001b[1;32m    359\u001b[0m \u001b[0;34m\u001b[0m\u001b[0m\n\u001b[1;32m    360\u001b[0m     \u001b[0;32mreturn\u001b[0m \u001b[0mwrapper\u001b[0m\u001b[0;34m\u001b[0m\u001b[0;34m\u001b[0m\u001b[0m\n",
            "\u001b[0;32m/usr/local/lib/python3.7/dist-packages/matplotlib/axes/_axes.py\u001b[0m in \u001b[0;36mscatter\u001b[0;34m(self, x, y, s, c, marker, cmap, norm, vmin, vmax, alpha, linewidths, verts, edgecolors, plotnonfinite, **kwargs)\u001b[0m\n\u001b[1;32m   4401\u001b[0m             self._parse_scatter_color_args(\n\u001b[1;32m   4402\u001b[0m                 \u001b[0mc\u001b[0m\u001b[0;34m,\u001b[0m \u001b[0medgecolors\u001b[0m\u001b[0;34m,\u001b[0m \u001b[0mkwargs\u001b[0m\u001b[0;34m,\u001b[0m \u001b[0mx\u001b[0m\u001b[0;34m.\u001b[0m\u001b[0msize\u001b[0m\u001b[0;34m,\u001b[0m\u001b[0;34m\u001b[0m\u001b[0;34m\u001b[0m\u001b[0m\n\u001b[0;32m-> 4403\u001b[0;31m                 get_next_color_func=self._get_patches_for_fill.get_next_color)\n\u001b[0m\u001b[1;32m   4404\u001b[0m \u001b[0;34m\u001b[0m\u001b[0m\n\u001b[1;32m   4405\u001b[0m         \u001b[0;32mif\u001b[0m \u001b[0mplotnonfinite\u001b[0m \u001b[0;32mand\u001b[0m \u001b[0mcolors\u001b[0m \u001b[0;32mis\u001b[0m \u001b[0;32mNone\u001b[0m\u001b[0;34m:\u001b[0m\u001b[0;34m\u001b[0m\u001b[0;34m\u001b[0m\u001b[0m\n",
            "\u001b[0;32m/usr/local/lib/python3.7/dist-packages/matplotlib/axes/_axes.py\u001b[0m in \u001b[0;36m_parse_scatter_color_args\u001b[0;34m(c, edgecolors, kwargs, xsize, get_next_color_func)\u001b[0m\n\u001b[1;32m   4209\u001b[0m         \u001b[0;32mif\u001b[0m \u001b[0;32mnot\u001b[0m \u001b[0mc_was_none\u001b[0m \u001b[0;32mand\u001b[0m \u001b[0mkwcolor\u001b[0m \u001b[0;32mis\u001b[0m \u001b[0;32mNone\u001b[0m \u001b[0;32mand\u001b[0m \u001b[0;32mnot\u001b[0m \u001b[0mc_is_string_or_strings\u001b[0m\u001b[0;34m:\u001b[0m\u001b[0;34m\u001b[0m\u001b[0;34m\u001b[0m\u001b[0m\n\u001b[1;32m   4210\u001b[0m             \u001b[0;32mtry\u001b[0m\u001b[0;34m:\u001b[0m  \u001b[0;31m# First, does 'c' look suitable for value-mapping?\u001b[0m\u001b[0;34m\u001b[0m\u001b[0;34m\u001b[0m\u001b[0m\n\u001b[0;32m-> 4211\u001b[0;31m                 \u001b[0mc\u001b[0m \u001b[0;34m=\u001b[0m \u001b[0mnp\u001b[0m\u001b[0;34m.\u001b[0m\u001b[0masanyarray\u001b[0m\u001b[0;34m(\u001b[0m\u001b[0mc\u001b[0m\u001b[0;34m,\u001b[0m \u001b[0mdtype\u001b[0m\u001b[0;34m=\u001b[0m\u001b[0mfloat\u001b[0m\u001b[0;34m)\u001b[0m\u001b[0;34m\u001b[0m\u001b[0;34m\u001b[0m\u001b[0m\n\u001b[0m\u001b[1;32m   4212\u001b[0m             \u001b[0;32mexcept\u001b[0m \u001b[0mValueError\u001b[0m\u001b[0;34m:\u001b[0m\u001b[0;34m\u001b[0m\u001b[0;34m\u001b[0m\u001b[0m\n\u001b[1;32m   4213\u001b[0m                 \u001b[0;32mpass\u001b[0m  \u001b[0;31m# Failed to convert to float array; must be color specs.\u001b[0m\u001b[0;34m\u001b[0m\u001b[0;34m\u001b[0m\u001b[0m\n",
            "\u001b[0;32m/usr/local/lib/python3.7/dist-packages/torch/_tensor.py\u001b[0m in \u001b[0;36m__array__\u001b[0;34m(self, dtype)\u001b[0m\n\u001b[1;32m    678\u001b[0m             \u001b[0;32mreturn\u001b[0m \u001b[0mself\u001b[0m\u001b[0;34m.\u001b[0m\u001b[0mnumpy\u001b[0m\u001b[0;34m(\u001b[0m\u001b[0;34m)\u001b[0m\u001b[0;34m\u001b[0m\u001b[0;34m\u001b[0m\u001b[0m\n\u001b[1;32m    679\u001b[0m         \u001b[0;32melse\u001b[0m\u001b[0;34m:\u001b[0m\u001b[0;34m\u001b[0m\u001b[0;34m\u001b[0m\u001b[0m\n\u001b[0;32m--> 680\u001b[0;31m             \u001b[0;32mreturn\u001b[0m \u001b[0mself\u001b[0m\u001b[0;34m.\u001b[0m\u001b[0mnumpy\u001b[0m\u001b[0;34m(\u001b[0m\u001b[0;34m)\u001b[0m\u001b[0;34m.\u001b[0m\u001b[0mastype\u001b[0m\u001b[0;34m(\u001b[0m\u001b[0mdtype\u001b[0m\u001b[0;34m,\u001b[0m \u001b[0mcopy\u001b[0m\u001b[0;34m=\u001b[0m\u001b[0;32mFalse\u001b[0m\u001b[0;34m)\u001b[0m\u001b[0;34m\u001b[0m\u001b[0;34m\u001b[0m\u001b[0m\n\u001b[0m\u001b[1;32m    681\u001b[0m \u001b[0;34m\u001b[0m\u001b[0m\n\u001b[1;32m    682\u001b[0m     \u001b[0;31m# Wrap Numpy array again in a suitable tensor when done, to support e.g.\u001b[0m\u001b[0;34m\u001b[0m\u001b[0;34m\u001b[0m\u001b[0;34m\u001b[0m\u001b[0m\n",
            "\u001b[0;31mTypeError\u001b[0m: can't convert cuda:0 device type tensor to numpy. Use Tensor.cpu() to copy the tensor to host memory first."
          ]
        },
        {
          "output_type": "display_data",
          "data": {
            "text/plain": [
              "<Figure size 720x576 with 1 Axes>"
            ],
            "image/png": "[encoded data removed]"
          },
          "metadata": {
            "needs_background": "light"
          }
        }
      ],
      "source": [
        "x_scatter = [math.log10(x[0]) for x in results]\n",
        "y_scatter = [math.log10(x[1]) for x in results]\n",
        "\n",
        "# plot training accuracy\n",
        "marker_size = 100\n",
        "colors = [results[x][0] for x in results]\n",
        "plt.scatter(x_scatter, y_scatter, marker_size, c=colors, cmap='viridis')\n",
        "plt.colorbar()\n",
        "plt.xlabel('log learning rate')\n",
        "plt.ylabel('log regularization strength')\n",
        "plt.title('CIFAR-10 training accuracy')\n",
        "plt.gcf().set_size_inches(8, 5)\n",
        "plt.show()\n",
        "\n",
        "# plot validation accuracy\n",
        "colors = [results[x][1] for x in results] # default size of markers is 20\n",
        "plt.scatter(x_scatter, y_scatter, marker_size, c=colors, cmap='viridis')\n",
        "plt.colorbar()\n",
        "plt.xlabel('log learning rate')\n",
        "plt.ylabel('log regularization strength')\n",
        "plt.title('CIFAR-10 validation accuracy')\n",
        "plt.gcf().set_size_inches(8, 5)\n",
        "plt.show()"
      ]
    },
    {
      "cell_type": "markdown",
      "metadata": {
        "id": "MCMVzxquGf1O"
      },
      "source": [
        "Evaluate the best svm on test set. To get full credit for the assignment you should achieve a test-set accuracy above 35%.\n"
      ]
    },
    {
      "cell_type": "code",
      "execution_count": null,
      "metadata": {
        "id": "maJ7use3_soL",
        "colab": {
          "base_uri": "https://localhost:8080/"
        },
        "outputId": "55e9a8fc-21f2-4515-aee8-c30c72fa956a"
      },
      "outputs": [
        {
          "output_type": "stream",
          "name": "stdout",
          "text": [
            "linear SVM on raw pixels final test set accuracy: 0.318400\n"
          ]
        }
      ],
      "source": [
        "reset_seed(0)\n",
        "y_test_pred = best_svm_model.predict(data_dict['X_test'])\n",
        "test_accuracy = torch.mean((data_dict['y_test'] == y_test_pred).double())\n",
        "print('linear SVM on raw pixels final test set accuracy: %f' % test_accuracy)"
      ]
    },
    {
      "cell_type": "markdown",
      "metadata": {
        "id": "I-QVIG4fGiqJ"
      },
      "source": [
        "Visualize the learned weights for each class. Depending on your choice of learning rate and regularization strength, these may or may not be nice to look at."
      ]
    },
    {
      "cell_type": "code",
      "execution_count": null,
      "metadata": {
        "id": "McLHYtFd_vSI",
        "colab": {
          "base_uri": "https://localhost:8080/",
          "height": 385
        },
        "outputId": "f082c2e9-fa69-4654-bc4e-856024b07a17"
      },
      "outputs": [
        {
          "output_type": "display_data",
          "data": {
            "text/plain": [
              "<Figure size 720x576 with 10 Axes>"
            ],
            "image/png": "[encoded data removed]"
          },
          "metadata": {
            "needs_background": "light"
          }
        }
      ],
      "source": [
        "w = best_svm_model.W[:-1,:] # strip out the bias\n",
        "w = w.reshape(3, 32, 32, 10)\n",
        "w = w.transpose(0, 2).transpose(1, 0)\n",
        "\n",
        "w_min, w_max = torch.min(w), torch.max(w)\n",
        "classes = ['plane', 'car', 'bird', 'cat', 'deer', 'dog', 'frog', 'horse', 'ship', 'truck']\n",
        "for i in range(10):\n",
        "  plt.subplot(2, 5, i + 1)\n",
        "\n",
        "  # Rescale the weights to be between 0 and 255\n",
        "  wimg = 255.0 * (w[:, :, :, i].squeeze() - w_min) / (w_max - w_min)\n",
        "  plt.imshow(wimg.type(torch.uint8).cpu())\n",
        "  plt.axis('off')\n",
        "  plt.title(classes[i])"
      ]
    },
    {
      "cell_type": "markdown",
      "metadata": {
        "id": "DkuwyMY27RxS"
      },
      "source": [
        "# Softmax Classifier\n",
        "\n",
        "Similar to the SVM, you will:\n",
        "\n",
        "- implement a fully-vectorized **loss function** for the Softmax classifier\n",
        "- implement the fully-vectorized expression for its **analytic gradient**\n",
        "- **check your implementation** with numerical gradient\n",
        "- use a validation set to **tune the learning rate and regularization** strength\n",
        "- **optimize** the loss function with **SGD**\n",
        "- **visualize** the final learned weights\n",
        "\n",
        "As noted in the SVM section, you SHOULD NOT use \".to()\" or \".cuda()\" in each implementation block."
      ]
    },
    {
      "cell_type": "markdown",
      "metadata": {
        "id": "hLJMVGtvIgo3"
      },
      "source": [
        "First, let's start from implementing the naive softmax loss function with nested loops in `softmax_loss_naive` function."
      ]
    },
    {
      "cell_type": "markdown",
      "metadata": {
        "id": "cER8fiSq7Ys-"
      },
      "source": [
        "As a sanity check to see whether we have implemented the loss correctly, run the softmax classifier with a small random weight matrix and no regularization. You should see loss near log(10) = 2.3"
      ]
    },
    {
      "cell_type": "code",
      "execution_count": null,
      "metadata": {
        "id": "V9q77O7F7VI6",
        "colab": {
          "base_uri": "https://localhost:8080/"
        },
        "outputId": "dcb7b5ca-b624-4af2-e822-4239596734da"
      },
      "outputs": [
        {
          "output_type": "stream",
          "name": "stdout",
          "text": [
            "loss: 2.302616\n",
            "sanity check: 2.302585\n"
          ]
        }
      ],
      "source": [
        "from linear_classifier import softmax_loss_naive\n",
        "\n",
        "reset_seed(0)\n",
        "# Generate a random softmax weight tensor and use it to compute the loss.\n",
        "W = 0.0001 * torch.randn(3073, 10, dtype=data_dict['X_val'].dtype, device=data_dict['X_val'].device)\n",
        "\n",
        "X_batch = data_dict['X_val'][:128]\n",
        "y_batch = data_dict['y_val'][:128]\n",
        "\n",
        "# YOUR_TURN: Complete the implementation of softmax_loss_naive and implement \n",
        "# a (naive) version of the gradient that uses nested loops.\n",
        "loss, _ = softmax_loss_naive(W, X_batch, y_batch, reg=0.0)\n",
        "\n",
        "# As a rough sanity check, our loss should be something close to log(10.0).\n",
        "print('loss: %f' % loss)\n",
        "print('sanity check: %f' % (math.log(10.0)))"
      ]
    },
    {
      "cell_type": "markdown",
      "metadata": {
        "id": "5QJzUHl5I0HH"
      },
      "source": [
        "Next, we use gradient checking to debug the analytic gradient of our naive softmax loss function. If you've implemented the gradient correctly, you should see relative errors less than `1e-5`.\n"
      ]
    },
    {
      "cell_type": "code",
      "execution_count": null,
      "metadata": {
        "id": "Lj6YpN3q1hVG",
        "colab": {
          "base_uri": "https://localhost:8080/"
        },
        "outputId": "27562113-681d-4c74-f1dd-55a772a09989"
      },
      "outputs": [
        {
          "output_type": "stream",
          "name": "stdout",
          "text": [
            "numerical: 0.003050 analytic: 0.003050, relative error: 4.554529e-07\n",
            "numerical: 0.006309 analytic: 0.006309, relative error: 9.931630e-07\n",
            "numerical: 0.005396 analytic: 0.005396, relative error: 8.900474e-07\n",
            "numerical: 0.002573 analytic: 0.002573, relative error: 9.322323e-07\n",
            "numerical: 0.007509 analytic: 0.007509, relative error: 5.859553e-07\n",
            "numerical: 0.006418 analytic: 0.006418, relative error: 8.662397e-08\n",
            "numerical: 0.011393 analytic: 0.011393, relative error: 1.599955e-07\n",
            "numerical: 0.001822 analytic: 0.001822, relative error: 2.247998e-06\n",
            "numerical: -0.014710 analytic: -0.014710, relative error: 1.888483e-07\n",
            "numerical: -0.005155 analytic: -0.005155, relative error: 3.154224e-07\n"
          ]
        }
      ],
      "source": [
        "from linear_classifier import softmax_loss_naive\n",
        "\n",
        "reset_seed(0)\n",
        "W = 0.0001 * torch.randn(3073, 10, dtype=data_dict['X_val'].dtype, device=data_dict['X_val'].device)\n",
        "\n",
        "X_batch = data_dict['X_val'][:128]\n",
        "y_batch = data_dict['y_val'][:128]\n",
        "\n",
        "# YOUR_TURN: Complete the implementation of softmax_loss_naive and implement \n",
        "# a (naive) version of the gradient that uses nested loops.\n",
        "_, grad = softmax_loss_naive(W, X_batch, y_batch, reg=0.0)\n",
        "\n",
        "f = lambda w: softmax_loss_naive(w, X_batch, y_batch, reg=0.0)[0]\n",
        "grad_check_sparse(f, W, grad, 10)"
      ]
    },
    {
      "cell_type": "markdown",
      "metadata": {
        "id": "cFcgeajBI-L3"
      },
      "source": [
        "Let's perform another gradient check with regularization enabled. Again you should see relative errors less than `1e-5`."
      ]
    },
    {
      "cell_type": "code",
      "execution_count": null,
      "metadata": {
        "id": "Ik0i21sszZzg",
        "colab": {
          "base_uri": "https://localhost:8080/"
        },
        "outputId": "9530bc93-19db-41d4-d652-eed993326b7c"
      },
      "outputs": [
        {
          "output_type": "stream",
          "name": "stdout",
          "text": [
            "numerical: 0.004914 analytic: 0.004914, relative error: 6.885339e-08\n",
            "numerical: 0.005888 analytic: 0.005888, relative error: 2.220443e-07\n",
            "numerical: 0.006301 analytic: 0.006301, relative error: 7.041929e-07\n",
            "numerical: 0.001577 analytic: 0.001577, relative error: 1.403996e-07\n",
            "numerical: 0.005843 analytic: 0.005843, relative error: 3.276922e-07\n",
            "numerical: 0.006796 analytic: 0.006796, relative error: 1.315684e-07\n",
            "numerical: 0.011460 analytic: 0.011460, relative error: 3.156185e-08\n",
            "numerical: 0.002312 analytic: 0.002312, relative error: 9.749767e-07\n",
            "numerical: -0.016806 analytic: -0.016806, relative error: 3.589786e-09\n",
            "numerical: -0.006676 analytic: -0.006676, relative error: 2.718431e-07\n"
          ]
        }
      ],
      "source": [
        "from linear_classifier import softmax_loss_naive\n",
        "\n",
        "reset_seed(128)\n",
        "W = 0.0001 * torch.randn(3073, 10, dtype=data_dict['X_val'].dtype, device=data_dict['X_val'].device)\n",
        "reg = 10.0\n",
        "\n",
        "X_batch = data_dict['X_val'][:128]\n",
        "y_batch = data_dict['y_val'][:128]\n",
        "\n",
        "# YOUR_TURN: Complete the gradient compuation part of softmax_loss_naive \n",
        "_, grad = softmax_loss_naive(W, X_batch, y_batch, reg)\n",
        "\n",
        "f = lambda w: softmax_loss_naive(w, X_batch, y_batch, reg)[0]\n",
        "grad_check_sparse(f, W, grad, 10)"
      ]
    },
    {
      "cell_type": "markdown",
      "metadata": {
        "id": "JQgRzrdRJAm7"
      },
      "source": [
        "Then, let's move on to the vectorized form: `softmax_loss_vectorized`."
      ]
    },
    {
      "cell_type": "markdown",
      "metadata": {
        "id": "88xZ0rbLJGKV"
      },
      "source": [
        "Now that we have a naive implementation of the softmax loss function and its gradient, implement a vectorized version in softmax_loss_vectorized. The two versions should compute the same results, but the vectorized version should be much faster.\n",
        "\n",
        "The differences between the naive and vectorized losses and gradients should both be less than `1e-6`, and your vectorized implementation should be at least 20x faster than the naive implementation."
      ]
    },
    {
      "cell_type": "code",
      "execution_count": null,
      "metadata": {
        "id": "lGNAe-oP1dds",
        "colab": {
          "base_uri": "https://localhost:8080/"
        },
        "outputId": "ebb4bb81-a980-4377-c8f2-a2f7de787245"
      },
      "outputs": [
        {
          "output_type": "stream",
          "name": "stdout",
          "text": [
            "naive loss: 2.302631e+00 computed in 297.682524s\n",
            "vectorized loss: 2.302631e+00 computed in 1.558542s\n",
            "Loss difference: 0.00e+00\n",
            "Gradient difference: 7.52e-16\n",
            "Speedup: 191.00X\n"
          ]
        }
      ],
      "source": [
        "from linear_classifier import softmax_loss_naive, softmax_loss_vectorized\n",
        "\n",
        "reset_seed(0)\n",
        "W = 0.0001 * torch.randn(3073, 10, dtype=data_dict['X_val'].dtype, device=data_dict['X_val'].device)\n",
        "reg = 0.05\n",
        "\n",
        "X_batch = data_dict['X_val'][:128]\n",
        "y_batch = data_dict['y_val'][:128]\n",
        "\n",
        "# Run and time the naive version\n",
        "torch.cuda.synchronize()\n",
        "tic = time.time()\n",
        "loss_naive, grad_naive = softmax_loss_naive(W, X_batch, y_batch, reg)\n",
        "torch.cuda.synchronize()\n",
        "toc = time.time()\n",
        "ms_naive = 1000.0 * (toc - tic)\n",
        "print('naive loss: %e computed in %fs' % (loss_naive, ms_naive))\n",
        "\n",
        "# Run and time the vectorized version\n",
        "# YOUR_TURN: Complete the implementation of softmax_loss_vectorized\n",
        "torch.cuda.synchronize()\n",
        "tic = time.time()\n",
        "loss_vec, grad_vec = softmax_loss_vectorized(W, X_batch, y_batch, reg)\n",
        "torch.cuda.synchronize()\n",
        "toc = time.time()\n",
        "ms_vec = 1000.0 * (toc - tic)\n",
        "print('vectorized loss: %e computed in %fs' % (loss_vec, ms_vec))\n",
        "\n",
        "# we use the Frobenius norm to compare the two versions of the gradient.\n",
        "loss_diff = (loss_naive - loss_vec).abs().item()\n",
        "grad_diff = torch.norm(grad_naive - grad_vec, p='fro')\n",
        "print('Loss difference: %.2e' % loss_diff)\n",
        "print('Gradient difference: %.2e' % grad_diff)\n",
        "print('Speedup: %.2fX' % (ms_naive / ms_vec))"
      ]
    },
    {
      "cell_type": "markdown",
      "metadata": {
        "id": "bqZScXKyq6WB"
      },
      "source": [
        "Let's check that your implementation of the softmax loss is numerically stable.\n",
        "\n",
        "If either of the following print `nan` then you should double-check the numeric stability of your implementations."
      ]
    },
    {
      "cell_type": "code",
      "execution_count": null,
      "metadata": {
        "id": "bCyFPWxxq58R",
        "colab": {
          "base_uri": "https://localhost:8080/"
        },
        "outputId": "8fddc7de-d7b0-456a-e61a-fa1ae411c9f7"
      },
      "outputs": [
        {
          "output_type": "stream",
          "name": "stdout",
          "text": [
            "iteration 0 / 1: loss 768250002.302585\n",
            "iteration 0 / 1: loss 768250002.302585\n"
          ]
        }
      ],
      "source": [
        "from linear_classifier import softmax_loss_naive, softmax_loss_vectorized\n",
        "\n",
        "reset_seed(0)\n",
        "device = data_dict['X_train'].device\n",
        "dtype = data_dict['X_train'].dtype\n",
        "D = data_dict['X_train'].shape[1]\n",
        "C = 10\n",
        "\n",
        "# YOUR_TURN??: train_linear_classifier should be same as what you've implemented in the SVM section\n",
        "W_ones = torch.ones(D, C, device=device, dtype=dtype)\n",
        "W, loss_hist = train_linear_classifier(softmax_loss_naive, W_ones, \n",
        "                                       data_dict['X_train'], \n",
        "                                       data_dict['y_train'], \n",
        "                                       learning_rate=1e-8, reg=2.5e4,\n",
        "                                       num_iters=1, verbose=True)\n",
        "\n",
        "\n",
        "W_ones = torch.ones(D, C, device=device, dtype=dtype)\n",
        "W, loss_hist = train_linear_classifier(softmax_loss_vectorized, W_ones, \n",
        "                                       data_dict['X_train'], \n",
        "                                       data_dict['y_train'], \n",
        "                                       learning_rate=1e-8, reg=2.5e4,\n",
        "                                       num_iters=1, verbose=True)\n"
      ]
    },
    {
      "cell_type": "markdown",
      "metadata": {
        "id": "kR4JGKoek8FB"
      },
      "source": [
        "Now lets train a softmax classifier with some default hyperparameters:\n"
      ]
    },
    {
      "cell_type": "code",
      "execution_count": null,
      "metadata": {
        "id": "Kqga1rvjk7b8",
        "colab": {
          "base_uri": "https://localhost:8080/"
        },
        "outputId": "85975c01-74bf-418d-88bc-b39b17f875d1"
      },
      "outputs": [
        {
          "output_type": "stream",
          "name": "stdout",
          "text": [
            "iteration 0 / 1500: loss 2.303352\n",
            "iteration 100 / 1500: loss 2.303349\n",
            "iteration 200 / 1500: loss 2.303351\n",
            "iteration 300 / 1500: loss 2.303347\n",
            "iteration 400 / 1500: loss 2.303348\n",
            "iteration 500 / 1500: loss 2.303347\n",
            "iteration 600 / 1500: loss 2.303346\n",
            "iteration 700 / 1500: loss 2.303345\n",
            "iteration 800 / 1500: loss 2.303344\n",
            "iteration 900 / 1500: loss 2.303344\n",
            "iteration 1000 / 1500: loss 2.303344\n",
            "iteration 1100 / 1500: loss 2.303344\n",
            "iteration 1200 / 1500: loss 2.303343\n",
            "iteration 1300 / 1500: loss 2.303341\n",
            "iteration 1400 / 1500: loss 2.303341\n",
            "That took 1.995815s\n"
          ]
        }
      ],
      "source": [
        "from linear_classifier import softmax_loss_vectorized\n",
        "\n",
        "reset_seed(0)\n",
        "\n",
        "torch.cuda.synchronize()\n",
        "tic = time.time()\n",
        "\n",
        "# YOUR_TURN??: train_linear_classifier should be same as what you've implemented in the SVM section\n",
        "W, loss_hist = train_linear_classifier(softmax_loss_vectorized, None, \n",
        "                                       data_dict['X_train'], \n",
        "                                       data_dict['y_train'], \n",
        "                                       learning_rate=1e-10, reg=2.5e4,\n",
        "                                       num_iters=1500, verbose=True)\n",
        "\n",
        "torch.cuda.synchronize()\n",
        "toc = time.time()\n",
        "print('That took %fs' % (toc - tic))"
      ]
    },
    {
      "cell_type": "markdown",
      "metadata": {
        "id": "QKjxCGwkorCc"
      },
      "source": [
        "Plot the loss curve:"
      ]
    },
    {
      "cell_type": "code",
      "execution_count": null,
      "metadata": {
        "id": "K29x-DWNoujL",
        "colab": {
          "base_uri": "https://localhost:8080/",
          "height": 522
        },
        "outputId": "09cfe428-049b-4662-9020-3fbc868b1af5"
      },
      "outputs": [
        {
          "output_type": "display_data",
          "data": {
            "text/plain": [
              "<Figure size 720x576 with 1 Axes>"
            ],
            "image/png": "[encoded data removed]"
          },
          "metadata": {
            "needs_background": "light"
          }
        }
      ],
      "source": [
        "plt.plot(loss_hist, 'o')\n",
        "plt.xlabel('Iteration number')\n",
        "plt.ylabel('Loss value')\n",
        "plt.show()"
      ]
    },
    {
      "cell_type": "markdown",
      "metadata": {
        "id": "7WvpBuJWSwfd"
      },
      "source": [
        "Let's compute the accuracy of current model. It should be less than 10%."
      ]
    },
    {
      "cell_type": "code",
      "execution_count": null,
      "metadata": {
        "id": "zb8kY2MjSvfH",
        "colab": {
          "base_uri": "https://localhost:8080/"
        },
        "outputId": "bc0cd566-1d4c-477d-a6b2-2b3e93e85865"
      },
      "outputs": [
        {
          "output_type": "stream",
          "name": "stdout",
          "text": [
            "training accuracy: 8.94%\n",
            "validation accuracy: 9.06%\n"
          ]
        }
      ],
      "source": [
        "from linear_classifier import predict_linear_classifier\n",
        "\n",
        "reset_seed(0)\n",
        "\n",
        "# evaluate the performance on both the training and validation set\n",
        "# YOUR_TURN??: predict_linear_classifier should be same as what you've implemented before, in the SVM section\n",
        "y_train_pred = predict_linear_classifier(W, data_dict['X_train'])\n",
        "train_acc = 100.0 * (data_dict['y_train'] == y_train_pred).double().mean().item()\n",
        "print('training accuracy: %.2f%%' % train_acc)\n",
        "y_val_pred = predict_linear_classifier(W, data_dict['X_val'])\n",
        "val_acc = 100.0 * (data_dict['y_val'] == y_val_pred).double().mean().item()\n",
        "print('validation accuracy: %.2f%%' % val_acc)"
      ]
    },
    {
      "cell_type": "markdown",
      "metadata": {
        "id": "IuV0BZvzJirI"
      },
      "source": [
        "Now use the validation set to tune hyperparameters (regularization strength and learning rate). You should experiment with different ranges for the learning rates and regularization strengths.\n",
        "\n",
        "To get full credit for the assignment, your best model found through cross-validation should achieve an accuracy above 0.37 on the validation set."
      ]
    },
    {
      "cell_type": "code",
      "execution_count": null,
      "metadata": {
        "id": "68lmNVj31ddu",
        "colab": {
          "base_uri": "https://localhost:8080/"
        },
        "outputId": "bcda55d4-b5a8-4022-9e6c-7a7805039bc0"
      },
      "outputs": [
        {
          "output_type": "stream",
          "name": "stdout",
          "text": [
            "Training Softmax 1 / 12 with learning_rate=1.000000e-01 and reg=1.000000e-01\n",
            "Training Softmax 2 / 12 with learning_rate=1.000000e-01 and reg=1.000000e-02\n",
            "Training Softmax 3 / 12 with learning_rate=1.000000e-01 and reg=1.000000e-03\n",
            "Training Softmax 4 / 12 with learning_rate=1.000000e-02 and reg=1.000000e-01\n",
            "Training Softmax 5 / 12 with learning_rate=1.000000e-02 and reg=1.000000e-02\n",
            "Training Softmax 6 / 12 with learning_rate=1.000000e-02 and reg=1.000000e-03\n",
            "Training Softmax 7 / 12 with learning_rate=1.000000e-03 and reg=1.000000e-01\n",
            "Training Softmax 8 / 12 with learning_rate=1.000000e-03 and reg=1.000000e-02\n",
            "Training Softmax 9 / 12 with learning_rate=1.000000e-03 and reg=1.000000e-03\n",
            "Training Softmax 10 / 12 with learning_rate=1.000000e-04 and reg=1.000000e-01\n",
            "Training Softmax 11 / 12 with learning_rate=1.000000e-04 and reg=1.000000e-02\n",
            "Training Softmax 12 / 12 with learning_rate=1.000000e-04 and reg=1.000000e-03\n",
            "lr 1.000000e-04 reg 1.000000e-03 train accuracy: 0.251925 val accuracy: 0.254900\n",
            "lr 1.000000e-04 reg 1.000000e-02 train accuracy: 0.251925 val accuracy: 0.254900\n",
            "lr 1.000000e-04 reg 1.000000e-01 train accuracy: 0.251925 val accuracy: 0.254800\n",
            "lr 1.000000e-03 reg 1.000000e-03 train accuracy: 0.260775 val accuracy: 0.263100\n",
            "lr 1.000000e-03 reg 1.000000e-02 train accuracy: 0.260825 val accuracy: 0.263100\n",
            "lr 1.000000e-03 reg 1.000000e-01 train accuracy: 0.260800 val accuracy: 0.263200\n",
            "lr 1.000000e-02 reg 1.000000e-03 train accuracy: 0.313200 val accuracy: 0.314400\n",
            "lr 1.000000e-02 reg 1.000000e-02 train accuracy: 0.313050 val accuracy: 0.314000\n",
            "lr 1.000000e-02 reg 1.000000e-01 train accuracy: 0.310875 val accuracy: 0.311500\n",
            "lr 1.000000e-01 reg 1.000000e-03 train accuracy: 0.385300 val accuracy: 0.376200\n",
            "lr 1.000000e-01 reg 1.000000e-02 train accuracy: 0.383300 val accuracy: 0.374000\n",
            "lr 1.000000e-01 reg 1.000000e-01 train accuracy: 0.360800 val accuracy: 0.352300\n",
            "best validation accuracy achieved during cross-validation: 0.376200\n",
            "Saved in /content/drive/MyDrive/2022-1/deep_learning_lecture/assignment3/svm_best_model.pt\n"
          ]
        }
      ],
      "source": [
        "import os\n",
        "from linear_classifier import Softmax, softmax_get_search_params, test_one_param_set\n",
        "\n",
        "# YOUR_TURN: find the best learning_rates and regularization_strengths combination\n",
        "#            in 'softmax_get_search_params'\n",
        "learning_rates, regularization_strengths = softmax_get_search_params()\n",
        "num_models = len(learning_rates) * len(regularization_strengths)\n",
        "\n",
        "####\n",
        "# It is okay to comment out the following conditions when you are working on svm_get_search_params.\n",
        "# But, please do not forget to reset back to the original setting once you are done.\n",
        "if num_models > 25:\n",
        "  raise Exception(\"Please do not test/submit more than 25 items at once\")\n",
        "elif num_models < 5:\n",
        "  raise Exception(\"Please present at least 5 parameter sets in your final ipynb\")\n",
        "####\n",
        "\n",
        "\n",
        "i = 0\n",
        "# As before, store your cross-validation results in this dictionary.\n",
        "# The keys should be tuples of (learning_rate, regularization_strength) and\n",
        "# the values should be tuples (train_acc, val_acc)\n",
        "results = {}\n",
        "best_val = -1.0   # The highest validation accuracy that we have seen so far.\n",
        "best_softmax_model = None # The Softmax object that achieved the highest validation rate.\n",
        "num_iters = 2000 # number of iterations\n",
        "\n",
        "for lr in learning_rates:\n",
        "  for reg in regularization_strengths:\n",
        "    i += 1\n",
        "    print('Training Softmax %d / %d with learning_rate=%e and reg=%e'\n",
        "          % (i, num_models, lr, reg))\n",
        "    \n",
        "    reset_seed(0)\n",
        "    cand_softmax_model, cand_train_acc, cand_val_acc = test_one_param_set(Softmax(), data_dict, lr, reg, num_iters)\n",
        "\n",
        "    if cand_val_acc > best_val:\n",
        "      best_val = cand_val_acc\n",
        "      best_softmax_model = cand_softmax_model # save the classifier\n",
        "    results[(lr, reg)] = (cand_train_acc, cand_val_acc)\n",
        "\n",
        "\n",
        "# Print out results.\n",
        "for lr, reg in sorted(results):\n",
        "  train_acc, val_acc = results[(lr, reg)]\n",
        "  print('lr %e reg %e train accuracy: %f val accuracy: %f' % (\n",
        "         lr, reg, train_acc, val_acc))\n",
        "    \n",
        "print('best validation accuracy achieved during cross-validation: %f' % best_val)\n",
        "\n",
        "# save the best model\n",
        "#path = os.path.join(GOOGLE_DRIVE_PATH, 'softmax_best_model.pt')\n",
        "best_softmax_model.save(path)"
      ]
    },
    {
      "cell_type": "markdown",
      "metadata": {
        "id": "efougAmNCFLo"
      },
      "source": [
        "Run the following to visualize your cross-validation results:"
      ]
    },
    {
      "cell_type": "code",
      "execution_count": null,
      "metadata": {
        "id": "IVhRe3-DBjPr",
        "colab": {
          "base_uri": "https://localhost:8080/",
          "height": 873
        },
        "outputId": "a2cb4db4-290b-4f09-84fe-8af8b0cb3bbb"
      },
      "outputs": [
        {
          "output_type": "error",
          "ename": "TypeError",
          "evalue": "ignored",
          "traceback": [
            "\u001b[0;31m---------------------------------------------------------------------------\u001b[0m",
            "\u001b[0;31mTypeError\u001b[0m                                 Traceback (most recent call last)",
            "\u001b[0;32m<ipython-input-44-05e9f0459e7e>\u001b[0m in \u001b[0;36m<module>\u001b[0;34m()\u001b[0m\n\u001b[1;32m      5\u001b[0m \u001b[0mmarker_size\u001b[0m \u001b[0;34m=\u001b[0m \u001b[0;36m100\u001b[0m\u001b[0;34m\u001b[0m\u001b[0;34m\u001b[0m\u001b[0m\n\u001b[1;32m      6\u001b[0m \u001b[0mcolors\u001b[0m \u001b[0;34m=\u001b[0m \u001b[0;34m[\u001b[0m\u001b[0mresults\u001b[0m\u001b[0;34m[\u001b[0m\u001b[0mx\u001b[0m\u001b[0;34m]\u001b[0m\u001b[0;34m[\u001b[0m\u001b[0;36m0\u001b[0m\u001b[0;34m]\u001b[0m \u001b[0;32mfor\u001b[0m \u001b[0mx\u001b[0m \u001b[0;32min\u001b[0m \u001b[0mresults\u001b[0m\u001b[0;34m]\u001b[0m\u001b[0;34m\u001b[0m\u001b[0;34m\u001b[0m\u001b[0m\n\u001b[0;32m----> 7\u001b[0;31m \u001b[0mplt\u001b[0m\u001b[0;34m.\u001b[0m\u001b[0mscatter\u001b[0m\u001b[0;34m(\u001b[0m\u001b[0mx_scatter\u001b[0m\u001b[0;34m,\u001b[0m \u001b[0my_scatter\u001b[0m\u001b[0;34m,\u001b[0m \u001b[0mmarker_size\u001b[0m\u001b[0;34m,\u001b[0m \u001b[0mc\u001b[0m\u001b[0;34m=\u001b[0m\u001b[0mcolors\u001b[0m\u001b[0;34m,\u001b[0m \u001b[0mcmap\u001b[0m\u001b[0;34m=\u001b[0m\u001b[0;34m'viridis'\u001b[0m\u001b[0;34m)\u001b[0m\u001b[0;34m\u001b[0m\u001b[0;34m\u001b[0m\u001b[0m\n\u001b[0m\u001b[1;32m      8\u001b[0m \u001b[0mplt\u001b[0m\u001b[0;34m.\u001b[0m\u001b[0mcolorbar\u001b[0m\u001b[0;34m(\u001b[0m\u001b[0;34m)\u001b[0m\u001b[0;34m\u001b[0m\u001b[0;34m\u001b[0m\u001b[0m\n\u001b[1;32m      9\u001b[0m \u001b[0mplt\u001b[0m\u001b[0;34m.\u001b[0m\u001b[0mxlabel\u001b[0m\u001b[0;34m(\u001b[0m\u001b[0;34m'log learning rate'\u001b[0m\u001b[0;34m)\u001b[0m\u001b[0;34m\u001b[0m\u001b[0;34m\u001b[0m\u001b[0m\n",
            "\u001b[0;32m/usr/local/lib/python3.7/dist-packages/matplotlib/pyplot.py\u001b[0m in \u001b[0;36mscatter\u001b[0;34m(x, y, s, c, marker, cmap, norm, vmin, vmax, alpha, linewidths, verts, edgecolors, plotnonfinite, data, **kwargs)\u001b[0m\n\u001b[1;32m   2814\u001b[0m         \u001b[0mverts\u001b[0m\u001b[0;34m=\u001b[0m\u001b[0mverts\u001b[0m\u001b[0;34m,\u001b[0m \u001b[0medgecolors\u001b[0m\u001b[0;34m=\u001b[0m\u001b[0medgecolors\u001b[0m\u001b[0;34m,\u001b[0m\u001b[0;34m\u001b[0m\u001b[0;34m\u001b[0m\u001b[0m\n\u001b[1;32m   2815\u001b[0m         plotnonfinite=plotnonfinite, **({\"data\": data} if data is not\n\u001b[0;32m-> 2816\u001b[0;31m         None else {}), **kwargs)\n\u001b[0m\u001b[1;32m   2817\u001b[0m     \u001b[0msci\u001b[0m\u001b[0;34m(\u001b[0m\u001b[0m__ret\u001b[0m\u001b[0;34m)\u001b[0m\u001b[0;34m\u001b[0m\u001b[0;34m\u001b[0m\u001b[0m\n\u001b[1;32m   2818\u001b[0m     \u001b[0;32mreturn\u001b[0m \u001b[0m__ret\u001b[0m\u001b[0;34m\u001b[0m\u001b[0;34m\u001b[0m\u001b[0m\n",
            "\u001b[0;32m/usr/local/lib/python3.7/dist-packages/matplotlib/__init__.py\u001b[0m in \u001b[0;36minner\u001b[0;34m(ax, data, *args, **kwargs)\u001b[0m\n\u001b[1;32m   1563\u001b[0m     \u001b[0;32mdef\u001b[0m \u001b[0minner\u001b[0m\u001b[0;34m(\u001b[0m\u001b[0max\u001b[0m\u001b[0;34m,\u001b[0m \u001b[0;34m*\u001b[0m\u001b[0margs\u001b[0m\u001b[0;34m,\u001b[0m \u001b[0mdata\u001b[0m\u001b[0;34m=\u001b[0m\u001b[0;32mNone\u001b[0m\u001b[0;34m,\u001b[0m \u001b[0;34m**\u001b[0m\u001b[0mkwargs\u001b[0m\u001b[0;34m)\u001b[0m\u001b[0;34m:\u001b[0m\u001b[0;34m\u001b[0m\u001b[0;34m\u001b[0m\u001b[0m\n\u001b[1;32m   1564\u001b[0m         \u001b[0;32mif\u001b[0m \u001b[0mdata\u001b[0m \u001b[0;32mis\u001b[0m \u001b[0;32mNone\u001b[0m\u001b[0;34m:\u001b[0m\u001b[0;34m\u001b[0m\u001b[0;34m\u001b[0m\u001b[0m\n\u001b[0;32m-> 1565\u001b[0;31m             \u001b[0;32mreturn\u001b[0m \u001b[0mfunc\u001b[0m\u001b[0;34m(\u001b[0m\u001b[0max\u001b[0m\u001b[0;34m,\u001b[0m \u001b[0;34m*\u001b[0m\u001b[0mmap\u001b[0m\u001b[0;34m(\u001b[0m\u001b[0msanitize_sequence\u001b[0m\u001b[0;34m,\u001b[0m \u001b[0margs\u001b[0m\u001b[0;34m)\u001b[0m\u001b[0;34m,\u001b[0m \u001b[0;34m**\u001b[0m\u001b[0mkwargs\u001b[0m\u001b[0;34m)\u001b[0m\u001b[0;34m\u001b[0m\u001b[0;34m\u001b[0m\u001b[0m\n\u001b[0m\u001b[1;32m   1566\u001b[0m \u001b[0;34m\u001b[0m\u001b[0m\n\u001b[1;32m   1567\u001b[0m         \u001b[0mbound\u001b[0m \u001b[0;34m=\u001b[0m \u001b[0mnew_sig\u001b[0m\u001b[0;34m.\u001b[0m\u001b[0mbind\u001b[0m\u001b[0;34m(\u001b[0m\u001b[0max\u001b[0m\u001b[0;34m,\u001b[0m \u001b[0;34m*\u001b[0m\u001b[0margs\u001b[0m\u001b[0;34m,\u001b[0m \u001b[0;34m**\u001b[0m\u001b[0mkwargs\u001b[0m\u001b[0;34m)\u001b[0m\u001b[0;34m\u001b[0m\u001b[0;34m\u001b[0m\u001b[0m\n",
            "\u001b[0;32m/usr/local/lib/python3.7/dist-packages/matplotlib/cbook/deprecation.py\u001b[0m in \u001b[0;36mwrapper\u001b[0;34m(*args, **kwargs)\u001b[0m\n\u001b[1;32m    356\u001b[0m                 \u001b[0;34mf\"%(removal)s.  If any parameter follows {name!r}, they \"\u001b[0m\u001b[0;34m\u001b[0m\u001b[0;34m\u001b[0m\u001b[0m\n\u001b[1;32m    357\u001b[0m                 f\"should be pass as keyword, not positionally.\")\n\u001b[0;32m--> 358\u001b[0;31m         \u001b[0;32mreturn\u001b[0m \u001b[0mfunc\u001b[0m\u001b[0;34m(\u001b[0m\u001b[0;34m*\u001b[0m\u001b[0margs\u001b[0m\u001b[0;34m,\u001b[0m \u001b[0;34m**\u001b[0m\u001b[0mkwargs\u001b[0m\u001b[0;34m)\u001b[0m\u001b[0;34m\u001b[0m\u001b[0;34m\u001b[0m\u001b[0m\n\u001b[0m\u001b[1;32m    359\u001b[0m \u001b[0;34m\u001b[0m\u001b[0m\n\u001b[1;32m    360\u001b[0m     \u001b[0;32mreturn\u001b[0m \u001b[0mwrapper\u001b[0m\u001b[0;34m\u001b[0m\u001b[0;34m\u001b[0m\u001b[0m\n",
            "\u001b[0;32m/usr/local/lib/python3.7/dist-packages/matplotlib/axes/_axes.py\u001b[0m in \u001b[0;36mscatter\u001b[0;34m(self, x, y, s, c, marker, cmap, norm, vmin, vmax, alpha, linewidths, verts, edgecolors, plotnonfinite, **kwargs)\u001b[0m\n\u001b[1;32m   4401\u001b[0m             self._parse_scatter_color_args(\n\u001b[1;32m   4402\u001b[0m                 \u001b[0mc\u001b[0m\u001b[0;34m,\u001b[0m \u001b[0medgecolors\u001b[0m\u001b[0;34m,\u001b[0m \u001b[0mkwargs\u001b[0m\u001b[0;34m,\u001b[0m \u001b[0mx\u001b[0m\u001b[0;34m.\u001b[0m\u001b[0msize\u001b[0m\u001b[0;34m,\u001b[0m\u001b[0;34m\u001b[0m\u001b[0;34m\u001b[0m\u001b[0m\n\u001b[0;32m-> 4403\u001b[0;31m                 get_next_color_func=self._get_patches_for_fill.get_next_color)\n\u001b[0m\u001b[1;32m   4404\u001b[0m \u001b[0;34m\u001b[0m\u001b[0m\n\u001b[1;32m   4405\u001b[0m         \u001b[0;32mif\u001b[0m \u001b[0mplotnonfinite\u001b[0m \u001b[0;32mand\u001b[0m \u001b[0mcolors\u001b[0m \u001b[0;32mis\u001b[0m \u001b[0;32mNone\u001b[0m\u001b[0;34m:\u001b[0m\u001b[0;34m\u001b[0m\u001b[0;34m\u001b[0m\u001b[0m\n",
            "\u001b[0;32m/usr/local/lib/python3.7/dist-packages/matplotlib/axes/_axes.py\u001b[0m in \u001b[0;36m_parse_scatter_color_args\u001b[0;34m(c, edgecolors, kwargs, xsize, get_next_color_func)\u001b[0m\n\u001b[1;32m   4209\u001b[0m         \u001b[0;32mif\u001b[0m \u001b[0;32mnot\u001b[0m \u001b[0mc_was_none\u001b[0m \u001b[0;32mand\u001b[0m \u001b[0mkwcolor\u001b[0m \u001b[0;32mis\u001b[0m \u001b[0;32mNone\u001b[0m \u001b[0;32mand\u001b[0m \u001b[0;32mnot\u001b[0m \u001b[0mc_is_string_or_strings\u001b[0m\u001b[0;34m:\u001b[0m\u001b[0;34m\u001b[0m\u001b[0;34m\u001b[0m\u001b[0m\n\u001b[1;32m   4210\u001b[0m             \u001b[0;32mtry\u001b[0m\u001b[0;34m:\u001b[0m  \u001b[0;31m# First, does 'c' look suitable for value-mapping?\u001b[0m\u001b[0;34m\u001b[0m\u001b[0;34m\u001b[0m\u001b[0m\n\u001b[0;32m-> 4211\u001b[0;31m                 \u001b[0mc\u001b[0m \u001b[0;34m=\u001b[0m \u001b[0mnp\u001b[0m\u001b[0;34m.\u001b[0m\u001b[0masanyarray\u001b[0m\u001b[0;34m(\u001b[0m\u001b[0mc\u001b[0m\u001b[0;34m,\u001b[0m \u001b[0mdtype\u001b[0m\u001b[0;34m=\u001b[0m\u001b[0mfloat\u001b[0m\u001b[0;34m)\u001b[0m\u001b[0;34m\u001b[0m\u001b[0;34m\u001b[0m\u001b[0m\n\u001b[0m\u001b[1;32m   4212\u001b[0m             \u001b[0;32mexcept\u001b[0m \u001b[0mValueError\u001b[0m\u001b[0;34m:\u001b[0m\u001b[0;34m\u001b[0m\u001b[0;34m\u001b[0m\u001b[0m\n\u001b[1;32m   4213\u001b[0m                 \u001b[0;32mpass\u001b[0m  \u001b[0;31m# Failed to convert to float array; must be color specs.\u001b[0m\u001b[0;34m\u001b[0m\u001b[0;34m\u001b[0m\u001b[0m\n",
            "\u001b[0;32m/usr/local/lib/python3.7/dist-packages/torch/_tensor.py\u001b[0m in \u001b[0;36m__array__\u001b[0;34m(self, dtype)\u001b[0m\n\u001b[1;32m    678\u001b[0m             \u001b[0;32mreturn\u001b[0m \u001b[0mself\u001b[0m\u001b[0;34m.\u001b[0m\u001b[0mnumpy\u001b[0m\u001b[0;34m(\u001b[0m\u001b[0;34m)\u001b[0m\u001b[0;34m\u001b[0m\u001b[0;34m\u001b[0m\u001b[0m\n\u001b[1;32m    679\u001b[0m         \u001b[0;32melse\u001b[0m\u001b[0;34m:\u001b[0m\u001b[0;34m\u001b[0m\u001b[0;34m\u001b[0m\u001b[0m\n\u001b[0;32m--> 680\u001b[0;31m             \u001b[0;32mreturn\u001b[0m \u001b[0mself\u001b[0m\u001b[0;34m.\u001b[0m\u001b[0mnumpy\u001b[0m\u001b[0;34m(\u001b[0m\u001b[0;34m)\u001b[0m\u001b[0;34m.\u001b[0m\u001b[0mastype\u001b[0m\u001b[0;34m(\u001b[0m\u001b[0mdtype\u001b[0m\u001b[0;34m,\u001b[0m \u001b[0mcopy\u001b[0m\u001b[0;34m=\u001b[0m\u001b[0;32mFalse\u001b[0m\u001b[0;34m)\u001b[0m\u001b[0;34m\u001b[0m\u001b[0;34m\u001b[0m\u001b[0m\n\u001b[0m\u001b[1;32m    681\u001b[0m \u001b[0;34m\u001b[0m\u001b[0m\n\u001b[1;32m    682\u001b[0m     \u001b[0;31m# Wrap Numpy array again in a suitable tensor when done, to support e.g.\u001b[0m\u001b[0;34m\u001b[0m\u001b[0;34m\u001b[0m\u001b[0;34m\u001b[0m\u001b[0m\n",
            "\u001b[0;31mTypeError\u001b[0m: can't convert cuda:0 device type tensor to numpy. Use Tensor.cpu() to copy the tensor to host memory first."
          ]
        },
        {
          "output_type": "display_data",
          "data": {
            "text/plain": [
              "<Figure size 720x576 with 1 Axes>"
            ],
            "image/png": "[encoded data removed]"
          },
          "metadata": {
            "needs_background": "light"
          }
        }
      ],
      "source": [
        "x_scatter = [math.log10(x[0]) for x in results]\n",
        "y_scatter = [math.log10(x[1]) for x in results]\n",
        "\n",
        "# plot training accuracy\n",
        "marker_size = 100\n",
        "colors = [results[x][0] for x in results]\n",
        "plt.scatter(x_scatter, y_scatter, marker_size, c=colors, cmap='viridis')\n",
        "plt.colorbar()\n",
        "plt.xlabel('log learning rate')\n",
        "plt.ylabel('log regularization strength')\n",
        "plt.title('CIFAR-10 training accuracy')\n",
        "plt.gcf().set_size_inches(8, 5)\n",
        "plt.show()\n",
        "\n",
        "# plot validation accuracy\n",
        "colors = [results[x][1] for x in results] # default size of markers is 20\n",
        "plt.scatter(x_scatter, y_scatter, marker_size, c=colors, cmap='viridis')\n",
        "plt.colorbar()\n",
        "plt.xlabel('log learning rate')\n",
        "plt.ylabel('log regularization strength')\n",
        "plt.title('CIFAR-10 validation accuracy')\n",
        "plt.gcf().set_size_inches(8, 5)\n",
        "plt.show()"
      ]
    },
    {
      "cell_type": "markdown",
      "metadata": {
        "id": "fbOlUcv6J7MM"
      },
      "source": [
        "Them, evaluate the performance of your best model on test set. To get full credit for this assignment you should achieve a test-set accuracy above 0.36.\n",
        "\n"
      ]
    },
    {
      "cell_type": "code",
      "execution_count": null,
      "metadata": {
        "id": "-wxkVdB-1ddx",
        "colab": {
          "base_uri": "https://localhost:8080/"
        },
        "outputId": "b11a636f-87bf-410c-b97f-3012f0cb4b1b"
      },
      "outputs": [
        {
          "output_type": "stream",
          "name": "stdout",
          "text": [
            "softmax on raw pixels final test set accuracy: 0.373800\n"
          ]
        }
      ],
      "source": [
        "y_test_pred = best_softmax_model.predict(data_dict['X_test'])\n",
        "test_accuracy = torch.mean((data_dict['y_test'] == y_test_pred).double())\n",
        "print('softmax on raw pixels final test set accuracy: %f' % (test_accuracy, ))"
      ]
    },
    {
      "cell_type": "markdown",
      "metadata": {
        "id": "Joo4RbeoKECC"
      },
      "source": [
        "Finally, let's visualize the learned weights for each class"
      ]
    },
    {
      "cell_type": "code",
      "execution_count": null,
      "metadata": {
        "id": "XDfxI7mR1ddz",
        "colab": {
          "base_uri": "https://localhost:8080/",
          "height": 385
        },
        "outputId": "3c1b1741-9744-4bbc-d3cb-9a9571c697ee"
      },
      "outputs": [
        {
          "output_type": "display_data",
          "data": {
            "text/plain": [
              "<Figure size 720x576 with 10 Axes>"
            ],
            "image/png": "[encoded data removed]"
          },
          "metadata": {
            "needs_background": "light"
          }
        }
      ],
      "source": [
        "w = best_softmax_model.W[:-1,:] # strip out the bias\n",
        "w = w.reshape(3, 32, 32, 10)\n",
        "w = w.transpose(0, 2).transpose(1, 0)\n",
        "\n",
        "w_min, w_max = torch.min(w), torch.max(w)\n",
        "\n",
        "classes = ['plane', 'car', 'bird', 'cat', 'deer', 'dog', 'frog', 'horse', 'ship', 'truck']\n",
        "for i in range(10):\n",
        "  plt.subplot(2, 5, i + 1)\n",
        "\n",
        "  # Rescale the weights to be between 0 and 255\n",
        "  wimg = 255.0 * (w[:, :, :, i].squeeze() - w_min) / (w_max - w_min)\n",
        "  plt.imshow(wimg.type(torch.uint8).cpu())\n",
        "  plt.axis('off')\n",
        "  plt.title(classes[i])"
      ]
    }
  ],
  "metadata": {
    "accelerator": "GPU",
    "colab": {
      "collapsed_sections": [],
      "name": "linear_classifier.ipynb",
      "provenance": []
    },
    "kernelspec": {
      "display_name": "Python 3 (ipykernel)",
      "language": "python",
      "name": "python3"
    },
    "language_info": {
      "codemirror_mode": {
        "name": "ipython",
        "version": 3
      },
      "file_extension": ".py",
      "mimetype": "text/x-python",
      "name": "python",
      "nbconvert_exporter": "python",
      "pygments_lexer": "ipython3",
      "version": "3.8.12"
    }
  },
  "nbformat": 4,
  "nbformat_minor": 0
}