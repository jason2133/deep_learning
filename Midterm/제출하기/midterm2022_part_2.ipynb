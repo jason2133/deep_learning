{
  "cells": [
    {
      "cell_type": "markdown",
      "metadata": {
        "id": "vTOX0d3cmLQf"
      },
      "source": [
        "# Midterm Part II"
      ]
    },
    {
      "cell_type": "markdown",
      "metadata": {
        "id": "SFQSh4jlh9Ac"
      },
      "source": [
        "In this midterm, we will compare optimization algorithms for linear regression.\n",
        "- linear regression X (analytic solution, gradient descent, adam)\n",
        "without using torch.nn / torch.optim packages.\n",
        "\n",
        "For this exam, you need to \n",
        "1. fill out ``midterm.py``\n",
        "2. run the current jupyter notebook\n",
        "3. explain the two algorithms GD & ADAM by comparing your results (answer at the end of this notebook)\n"
      ]
    },
    {
      "cell_type": "markdown",
      "metadata": {
        "id": "Cnf0BfHZfWzO"
      },
      "source": [
        "## Google Colab Setup\n",
        "Setup the work environment following Homework 1 (mount google drive, set the path)"
      ]
    },
    {
      "cell_type": "markdown",
      "metadata": {
        "id": "FrfeHl_-m4V-"
      },
      "source": [
        "## Setup Code\n",
        "Before getting started, we need to run some boilerplate code to set up our environment, same as Assignment 1. You'll need to rerun this setup code each time you start the notebook.\n",
        "\n",
        "First, run this cell load the autoreload extension. This allows us to edit .py source files, and re-import them into the notebook for a seamless editing and debugging experience."
      ]
    },
    {
      "cell_type": "code",
      "execution_count": null,
      "metadata": {
        "id": "VyQblYp0nEZq",
        "colab": {
          "base_uri": "https://localhost:8080/"
        },
        "outputId": "5b32a24f-2abc-44cf-c7a5-e54c6213ec5e"
      },
      "outputs": [
        {
          "output_type": "stream",
          "name": "stdout",
          "text": [
            "The autoreload extension is already loaded. To reload it, use:\n",
            "  %reload_ext autoreload\n"
          ]
        }
      ],
      "source": [
        "%load_ext autoreload\n",
        "%autoreload 2"
      ]
    },
    {
      "cell_type": "code",
      "source": [
        "# Using Google Colab\n",
        "from google.colab import drive\n",
        "drive.mount('/content/drive')\n",
        "import os"
      ],
      "metadata": {
        "colab": {
          "base_uri": "https://localhost:8080/"
        },
        "id": "ch4ENYLifsvC",
        "outputId": "45d5bea3-e23f-4c11-acfc-81033c6fb4b2"
      },
      "execution_count": null,
      "outputs": [
        {
          "output_type": "stream",
          "name": "stdout",
          "text": [
            "Mounted at /content/drive\n"
          ]
        }
      ]
    },
    {
      "cell_type": "code",
      "source": [
        "# /content/drive/MyDrive/2022-1/deep_learning_lecture/midterm/midterm.py\n",
        "\n",
        "%cd /content/drive/MyDrive/2022-1/deep_learning_lecture/midterm"
      ],
      "metadata": {
        "colab": {
          "base_uri": "https://localhost:8080/"
        },
        "id": "jZ1PzG2AiNlM",
        "outputId": "126dfadc-3098-48ef-9932-b30f518360c0"
      },
      "execution_count": null,
      "outputs": [
        {
          "output_type": "stream",
          "name": "stdout",
          "text": [
            "/content/drive/MyDrive/2022-1/deep_learning_lecture/midterm\n"
          ]
        }
      ]
    },
    {
      "cell_type": "markdown",
      "metadata": {
        "id": "wvinzSr2fCW7"
      },
      "source": [
        "## Generate a simulation model"
      ]
    },
    {
      "cell_type": "code",
      "execution_count": null,
      "metadata": {
        "id": "wuOyKfv9fFFp",
        "colab": {
          "base_uri": "https://localhost:8080/"
        },
        "outputId": "1a122568-e8de-41bc-9329-6c57d697081c"
      },
      "outputs": [
        {
          "output_type": "stream",
          "name": "stdout",
          "text": [
            "tensor([[0.],\n",
            "        [0.],\n",
            "        [0.],\n",
            "        [0.],\n",
            "        [0.],\n",
            "        [0.],\n",
            "        [0.],\n",
            "        [0.],\n",
            "        [0.],\n",
            "        [0.],\n",
            "        [0.]])\n"
          ]
        }
      ],
      "source": [
        "import torch\n",
        "import midterm\n",
        "\n",
        "import math\n",
        "import matplotlib.pyplot as plt\n",
        "\n",
        "midterm.reset_seed(1)\n",
        "trainX, trainy, true_beta = midterm.gen_linear(N=500,D=10)\n",
        "testX, testy, beta2 = midterm.gen_linear(N=500,D=10, beta=torch.squeeze(true_beta))\n",
        "print(true_beta-beta2)"
      ]
    },
    {
      "cell_type": "markdown",
      "metadata": {
        "id": "KLQ4q642fFFq"
      },
      "source": [
        "## Fit linear regression with analytic solution\n",
        "Here, you need to fill out ``midterm.py`` file (``train_analytic``, ``predict`` functions)."
      ]
    },
    {
      "cell_type": "code",
      "execution_count": null,
      "metadata": {
        "id": "qJfuhGEufFFr",
        "colab": {
          "base_uri": "https://localhost:8080/"
        },
        "outputId": "43e057b8-2702-473e-89f6-80e6b19fc557"
      },
      "outputs": [
        {
          "output_type": "stream",
          "name": "stdout",
          "text": [
            "Training Mean squared error (MSE): tensor(0.0063)\n",
            "Training Mean squared prediction error (MSPE): tensor(1.0963)\n",
            "Test Mean squared prediction error (MSPE): tensor(0.9470)\n"
          ]
        }
      ],
      "source": [
        "model_a = midterm.LinearRegress(trainX,trainy)\n",
        "model_a.train_analytic()\n",
        "print('Training Mean squared error (MSE):', (model_a.beta-true_beta).square().mean())\n",
        "print('Training Mean squared prediction error (MSPE):', (model_a.yhat_train-trainy).square().mean())\n",
        "testy_hat = model_a.predict(testX)\n",
        "print('Test Mean squared prediction error (MSPE):', (testy_hat-testy).square().mean())\n"
      ]
    },
    {
      "cell_type": "markdown",
      "metadata": {
        "id": "-GaY0O9kfFFs"
      },
      "source": [
        "## Ridge with analytic solution\n",
        "There is no additional codding required. We can just modify $\\lambda$."
      ]
    },
    {
      "cell_type": "code",
      "execution_count": null,
      "metadata": {
        "id": "pQYrqOLzfFFs",
        "colab": {
          "base_uri": "https://localhost:8080/"
        },
        "outputId": "ff6292fd-31f6-4349-984d-592bb1df4d14"
      },
      "outputs": [
        {
          "output_type": "stream",
          "name": "stdout",
          "text": [
            "Training Mean squared error (MSE): tensor(0.0063)\n",
            "Training Mean squared prediction error (MSPE): tensor(1.0966)\n",
            "Test Mean squared prediction error (MSPE): tensor(0.9486)\n"
          ]
        }
      ],
      "source": [
        "model_a.train_analytic(lam=.5)\n",
        "print('Training Mean squared error (MSE):', (model_a.beta-true_beta).square().mean())\n",
        "print('Training Mean squared prediction error (MSPE):', (model_a.yhat_train-trainy).square().mean())\n",
        "testy_hat = model_a.predict(testX)\n",
        "print('Test Mean squared prediction error (MSPE):', (testy_hat-testy).square().mean())\n"
      ]
    },
    {
      "cell_type": "markdown",
      "metadata": {
        "id": "58qNcnV_fFFt"
      },
      "source": [
        "## Using gradient descent\n",
        "Let's use the MSPE as our loss function,\n",
        "$$ L(y,beta) =\\frac{1}{N} \\sum (y_i-({\\beta}_0 + {\\beta}_1 x_{i1}+ \\ldots + {\\beta}_D x_{iD})^2, $$\n",
        "because we do not know the true ``beta`` in a real case.\n",
        "\n",
        "With a matrix form (and a proper modification), \n",
        "$$ L(y,beta) = \\frac{1}{N}\\|y-X\\beta\\|^2 $$\n",
        "Write down your gradient descent method code in ``train_gd``. Don't forget to consider $\\frac{1}{n}$. Without it, your gradient might be too large (change the learning rate). \n",
        "\n",
        "In the code below, you can modify ``lr`` and ``niter`` as you want. "
      ]
    },
    {
      "cell_type": "code",
      "execution_count": null,
      "metadata": {
        "id": "aSz09Z9BfFFt",
        "colab": {
          "base_uri": "https://localhost:8080/",
          "height": 350
        },
        "outputId": "27511e90-bb93-4e44-ffe1-0f3bb9c386f3"
      },
      "outputs": [
        {
          "output_type": "stream",
          "name": "stdout",
          "text": [
            "Training Mean squared error (MSE): tensor(4.4635)\n",
            "Training Mean squared prediction error (MSPE): tensor(18.0493)\n",
            "Test Mean squared prediction error (MSPE): tensor(17.5385)\n"
          ]
        },
        {
          "output_type": "display_data",
          "data": {
            "text/plain": [
              "<Figure size 432x288 with 1 Axes>"
            ],
            "image/png": "[encoded data removed]"
          },
          "metadata": {
            "needs_background": "light"
          }
        }
      ],
      "source": [
        "model_gd = midterm.LinearRegress(trainX,trainy)\n",
        "\n",
        "lr = 1e-3\n",
        "niter = 500\n",
        "model_gd.train_gd(niter = niter, lr=lr)\n",
        "\n",
        "print('Training Mean squared error (MSE):', (model_gd.beta-true_beta).square().mean())\n",
        "print('Training Mean squared prediction error (MSPE):', (model_gd.yhat_train-trainy).square().mean())\n",
        "testy_hat = model_gd.predict(testX)\n",
        "print('Test Mean squared prediction error (MSPE):', (testy_hat-testy).square().mean())\n",
        "\n",
        "# plot the loss history\n",
        "plt.plot(model_gd.loss_history, 'o')\n",
        "plt.xlabel('Iteration')\n",
        "plt.ylabel('training loss')\n",
        "plt.title('Training Loss history')\n",
        "plt.show()\n"
      ]
    },
    {
      "cell_type": "markdown",
      "metadata": {
        "id": "Kh9UuGaWfFFu"
      },
      "source": [
        "## Adam\n",
        "Let's use adam as your optimizer. Fill out the ``train_adam``. In your code, you can add ``t=t+1`` at the beginning to make the iteration number start from 1 instead of 0. \n",
        "- Try to modify your ``lr`` to see how sensitive it is. \n",
        "- Try to modify ``niter`` to see how fast it is."
      ]
    },
    {
      "cell_type": "code",
      "execution_count": null,
      "metadata": {
        "id": "3HRUboQWfFFu",
        "colab": {
          "base_uri": "https://localhost:8080/",
          "height": 350
        },
        "outputId": "0c3b9acb-7fe2-4231-a2b5-23a73337cf76"
      },
      "outputs": [
        {
          "output_type": "stream",
          "name": "stdout",
          "text": [
            "Training Mean squared error (MSE): tensor(4.7960)\n",
            "Training Mean squared prediction error (MSPE): tensor(61.9297)\n",
            "Test Mean squared prediction error (MSPE): tensor(56.7247)\n"
          ]
        },
        {
          "output_type": "display_data",
          "data": {
            "text/plain": [
              "<Figure size 432x288 with 1 Axes>"
            ],
            "image/png": "[encoded data removed]"
          },
          "metadata": {
            "needs_background": "light"
          }
        }
      ],
      "source": [
        "model_adam = midterm.LinearRegress(trainX,trainy)\n",
        "\n",
        "lr = 1\n",
        "niter = 70\n",
        "model_adam.train_adam(niter = niter, lr=lr, beta1=0.9, beta2=0.999)\n",
        "\n",
        "print('Training Mean squared error (MSE):', (model_adam.beta-true_beta).square().mean())\n",
        "print('Training Mean squared prediction error (MSPE):', (model_adam.yhat_train-trainy).square().mean())\n",
        "testy_hat = model_adam.predict(testX)\n",
        "print('Test Mean squared prediction error (MSPE):', (testy_hat-testy).square().mean())\n",
        "\n",
        "# plot the loss history\n",
        "plt.plot(model_adam.loss_history, 'o')\n",
        "plt.xlabel('Iteration')\n",
        "plt.ylabel('training loss')\n",
        "plt.title('Training Loss history')\n",
        "plt.show()\n"
      ]
    },
    {
      "cell_type": "markdown",
      "metadata": {
        "id": "A0LtEHyWfFFu"
      },
      "source": [
        "### Compare test MSPE "
      ]
    },
    {
      "cell_type": "code",
      "execution_count": null,
      "metadata": {
        "id": "fu3aiPOAfFFv",
        "colab": {
          "base_uri": "https://localhost:8080/"
        },
        "outputId": "92aaa54e-b076-45ee-dc59-d942b61fd9bb"
      },
      "outputs": [
        {
          "output_type": "stream",
          "name": "stdout",
          "text": [
            "Analytic-Test Mean squared prediction error (MSPE): tensor(0.9486)\n",
            "GD-Test Mean squared prediction error (MSPE): tensor(17.5385)\n",
            "adam-Test Mean squared prediction error (MSPE): tensor(56.7247)\n"
          ]
        }
      ],
      "source": [
        "testy_hat = model_a.predict(testX)\n",
        "print('Analytic-Test Mean squared prediction error (MSPE):', (testy_hat-testy).square().mean())\n",
        "\n",
        "testy_hat = model_gd.predict(testX)\n",
        "print('GD-Test Mean squared prediction error (MSPE):', (testy_hat-testy).square().mean())\n",
        "\n",
        "testy_hat = model_adam.predict(testX)\n",
        "print('adam-Test Mean squared prediction error (MSPE):', (testy_hat-testy).square().mean())"
      ]
    },
    {
      "cell_type": "markdown",
      "metadata": {
        "id": "xnV7D5AVfFFv"
      },
      "source": [
        "# Explain the two optimization algorithms with comparison"
      ]
    },
    {
      "cell_type": "markdown",
      "metadata": {
        "id": "Vw8bGfwYfFFv"
      },
      "source": [
        "## Fill out your answer below. A paragraph would be fine!\n",
        "answer: \n",
        "\n",
        "◎ Gradient Descent  \n",
        "  - 머신러닝의 학습은 Loss Function을 최소화하는 모수 w를 찾는 것을 말하며 이를 Optimization(최적화) 과정이라고 한다. Gradient Descent Alogrithm은 Loss Function을 최소화하는 Optimization 과정에서 활용하는 방법이다.\n",
        "  - Gradient Descent는 모든 자료로부터 산출된 Loss Function을 이용한 Optimization 방법론이다. 즉, ‘모든 자료를 다 검토해서 내 위치의 산기울기를 계산해서 갈 방향을 찾겠다’고 말할 수 있겠다. n개의 자료가 있을 때 n개의 자료를 모두 이용하므로 1번의 최신화가 일어나게 되며 이를 1 epoch라고 한다.\n",
        "  - 수식으로는 $$x_{i+1} = x_{i} - \\alpha\\triangledown f(x_{i})$$로 표현한다.  \n",
        "즉, $x_{i+1} = x_{i} -$(이동거리) * (기울기의 부호)이다. $\\alpha$는 Learning Rate라고 말하며 적절한 Learning Rate를 설정하는 것 역시 중요하겠다.  \n",
        "\n",
        "\n",
        "\n",
        "◎ Adam  \n",
        "- Adam은 Adaptive와 Momentum을 합친 것이다. Momentum은 새로운 계수로 v를, AdaGrad는 h를 추가하여 최적화를 진행하였는데 Adam은 두 기법에서 h, v가 각각 최초 0으로 설정되어 학습 초반에 0으로 biased되는 문제를 해결하기 위해 고안된 방법이다. Momentum과 AdaGrad 및 RMSProp를 합친 것으로, Step 방향도, Step Size도 적절하게 하자는 입장을 취하고 있다.\n",
        "- Adam은 Tracks first moments(Momentum)과 Tracks second moments(Adaptive learning rates)와 Leaky second moments와 Bias correction for moment estimates 모두를 채택한 것이다.\n",
        "- 수식으로는 $$m_{t} = \\beta_{1}m_{t-1}+(1-\\beta_{1})g_{t}$$\n",
        "$$v_{t} = \\beta_{2}v_{t-1}+(1-\\beta_{2})g_{t}^2$$\n",
        "$$\\hat{m_{t}} = \\cfrac{m_t}{1-\\beta_{1}^t} \\theta_{t+1} = \\theta_{t} - \\cfrac{\\eta}{\\sqrt{\\hat{v_{t}} + \\epsilon}}\\hat{m_{t}}$$\n",
        "$$\\hat{v_{t}} = \\cfrac{v_t}{1-\\beta_{2}^t}$$\n",
        "로 표현한다.   \n",
        "$g_{t}$는 Gradient를 의미하며, $m_{t}$는 Momentum, $v_{t}$는 adaptive learning rate를 위한 Term을 의미한다. 일반적으로 $\\beta_{1}$=0.9, $\\beta_{2}$=0.999로 초기화된다. $\\hat{m_{t}}$와 $\\hat{v_{t}}$는 학습 초반에 이전 누적값이 0이 되면서 $m_{t}$는 매우 크고 $v_{t}$는 매우 작은 현상을 보정하는 작업을 하게 된다. 이를 통해 Momentum과 RMSProp의 장점을 취합해놓았다."
      ]
    }
  ],
  "metadata": {
    "colab": {
      "collapsed_sections": [],
      "name": "midterm2022 part 2.ipynb",
      "provenance": []
    },
    "kernelspec": {
      "display_name": "Python 3 (ipykernel)",
      "language": "python",
      "name": "python3"
    },
    "language_info": {
      "codemirror_mode": {
        "name": "ipython",
        "version": 3
      },
      "file_extension": ".py",
      "mimetype": "text/x-python",
      "name": "python",
      "nbconvert_exporter": "python",
      "pygments_lexer": "ipython3",
      "version": "3.8.12"
    }
  },
  "nbformat": 4,
  "nbformat_minor": 0
}