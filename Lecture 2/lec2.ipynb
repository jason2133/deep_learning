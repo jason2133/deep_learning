{
  "nbformat": 4,
  "nbformat_minor": 0,
  "metadata": {
    "colab": {
      "name": "lec2.ipynb",
      "provenance": [],
      "collapsed_sections": []
    },
    "kernelspec": {
      "name": "python3",
      "display_name": "Python 3"
    },
    "language_info": {
      "name": "python"
    }
  },
  "cells": [
    {
      "cell_type": "markdown",
      "source": [
        "### The Ridge Regression and Multicollinearity"
      ],
      "metadata": {
        "id": "tcp30L2jrxKV"
      }
    },
    {
      "cell_type": "code",
      "execution_count": 1,
      "metadata": {
        "id": "4mTXnGHervZt"
      },
      "outputs": [],
      "source": [
        "import torch\n",
        "import numpy as np\n",
        "import matplotlib.pyplot as plt"
      ]
    },
    {
      "cell_type": "code",
      "source": [
        "x = torch.tensor(range(5)).reshape(-1, 1) + 1"
      ],
      "metadata": {
        "id": "PWnaWmF2rw6w"
      },
      "execution_count": 3,
      "outputs": []
    },
    {
      "cell_type": "code",
      "source": [
        "print(x)"
      ],
      "metadata": {
        "colab": {
          "base_uri": "https://localhost:8080/"
        },
        "id": "fKhfFLNxrw8-",
        "outputId": "58c5f124-b8ac-4ebe-c682-26b90ea71244"
      },
      "execution_count": 4,
      "outputs": [
        {
          "output_type": "stream",
          "name": "stdout",
          "text": [
            "tensor([[1],\n",
            "        [2],\n",
            "        [3],\n",
            "        [4],\n",
            "        [5]])\n"
          ]
        }
      ]
    },
    {
      "cell_type": "code",
      "source": [
        "y = torch.cat([x, 5*x], 1)"
      ],
      "metadata": {
        "id": "CD_YaHxnrw_L"
      },
      "execution_count": 5,
      "outputs": []
    },
    {
      "cell_type": "code",
      "source": [
        "print(y)"
      ],
      "metadata": {
        "colab": {
          "base_uri": "https://localhost:8080/"
        },
        "id": "cwblHnpmsFZr",
        "outputId": "bc25a064-5952-46ba-d5f3-f765c113185d"
      },
      "execution_count": 6,
      "outputs": [
        {
          "output_type": "stream",
          "name": "stdout",
          "text": [
            "tensor([[ 1,  5],\n",
            "        [ 2, 10],\n",
            "        [ 3, 15],\n",
            "        [ 4, 20],\n",
            "        [ 5, 25]])\n"
          ]
        }
      ]
    },
    {
      "cell_type": "code",
      "source": [
        "y0 = torch.cat([x, 5*x], 0)\n",
        "print(y0)"
      ],
      "metadata": {
        "colab": {
          "base_uri": "https://localhost:8080/"
        },
        "id": "Ac9x1rp9sFcM",
        "outputId": "86a23349-d800-4c6b-fc0c-f6cbbef95319"
      },
      "execution_count": 7,
      "outputs": [
        {
          "output_type": "stream",
          "name": "stdout",
          "text": [
            "tensor([[ 1],\n",
            "        [ 2],\n",
            "        [ 3],\n",
            "        [ 4],\n",
            "        [ 5],\n",
            "        [ 5],\n",
            "        [10],\n",
            "        [15],\n",
            "        [20],\n",
            "        [25]])\n"
          ]
        }
      ]
    },
    {
      "cell_type": "code",
      "source": [
        "print(y)"
      ],
      "metadata": {
        "colab": {
          "base_uri": "https://localhost:8080/"
        },
        "id": "5ImSl9Q7sFeG",
        "outputId": "6177161d-c149-4650-c400-ead9ead111bc"
      },
      "execution_count": 8,
      "outputs": [
        {
          "output_type": "stream",
          "name": "stdout",
          "text": [
            "tensor([[ 1,  5],\n",
            "        [ 2, 10],\n",
            "        [ 3, 15],\n",
            "        [ 4, 20],\n",
            "        [ 5, 25]])\n"
          ]
        }
      ]
    },
    {
      "cell_type": "code",
      "source": [
        "print(y.T.mm(y))"
      ],
      "metadata": {
        "colab": {
          "base_uri": "https://localhost:8080/"
        },
        "id": "2xa_H0qAswxs",
        "outputId": "3f4274b6-c736-480d-ab6b-63fac129752f"
      },
      "execution_count": 9,
      "outputs": [
        {
          "output_type": "stream",
          "name": "stdout",
          "text": [
            "tensor([[  55,  275],\n",
            "        [ 275, 1375]])\n"
          ]
        }
      ]
    },
    {
      "cell_type": "code",
      "source": [
        "z = y.T.mm(y)\n",
        "print(z)"
      ],
      "metadata": {
        "colab": {
          "base_uri": "https://localhost:8080/"
        },
        "id": "KpwuZxaPsxP5",
        "outputId": "28011d6a-e430-4570-f984-8635344d3649"
      },
      "execution_count": 10,
      "outputs": [
        {
          "output_type": "stream",
          "name": "stdout",
          "text": [
            "tensor([[  55,  275],\n",
            "        [ 275, 1375]])\n"
          ]
        }
      ]
    },
    {
      "cell_type": "code",
      "source": [
        "print(z.inverse())"
      ],
      "metadata": {
        "colab": {
          "base_uri": "https://localhost:8080/",
          "height": 172
        },
        "id": "XkurJimDsxR-",
        "outputId": "16d4cbd8-4a53-4259-dfcd-3cbd325d1110"
      },
      "execution_count": 11,
      "outputs": [
        {
          "output_type": "error",
          "ename": "RuntimeError",
          "evalue": "ignored",
          "traceback": [
            "\u001b[0;31m---------------------------------------------------------------------------\u001b[0m",
            "\u001b[0;31mRuntimeError\u001b[0m                              Traceback (most recent call last)",
            "\u001b[0;32m<ipython-input-11-301933b48414>\u001b[0m in \u001b[0;36m<module>\u001b[0;34m()\u001b[0m\n\u001b[0;32m----> 1\u001b[0;31m \u001b[0mprint\u001b[0m\u001b[0;34m(\u001b[0m\u001b[0mz\u001b[0m\u001b[0;34m.\u001b[0m\u001b[0minverse\u001b[0m\u001b[0;34m(\u001b[0m\u001b[0;34m)\u001b[0m\u001b[0;34m)\u001b[0m\u001b[0;34m\u001b[0m\u001b[0;34m\u001b[0m\u001b[0m\n\u001b[0m",
            "\u001b[0;31mRuntimeError\u001b[0m: \"inverse_cpu\" not implemented for 'Long'"
          ]
        }
      ]
    },
    {
      "cell_type": "code",
      "source": [
        "print((z + 0.5 * torch.ones(2, 2)).inverse())"
      ],
      "metadata": {
        "colab": {
          "base_uri": "https://localhost:8080/"
        },
        "id": "37yvDd9usxUI",
        "outputId": "9b663b88-5f9a-4013-e920-dbd78ba16789"
      },
      "execution_count": 12,
      "outputs": [
        {
          "output_type": "stream",
          "name": "stdout",
          "text": [
            "tensor([[ 3.1261, -0.6261],\n",
            "        [-0.6261,  0.1261]])\n"
          ]
        }
      ]
    },
    {
      "cell_type": "markdown",
      "source": [
        "### Polynomial Regression"
      ],
      "metadata": {
        "id": "HJu3yb0itA0T"
      }
    },
    {
      "cell_type": "code",
      "source": [
        "# Defining the range of our distribution\n",
        "X = torch.tensor([i for i in range(-30, 30)]).float()\n",
        "\n",
        "# Function for creating a vector with value between [r1, r2]\n",
        "def randvec(r1, r2, shape):\n",
        "  return (r1 - r2) * torch.rand(shape) + r2\n",
        "\n",
        "# Creating random points from a gaussian with random noise\n",
        "y = randvec(-1e4, 1e4, X.shape) - (1/2) * X + 3 * X.pow(2) - (6/4) * X.pow(3)"
      ],
      "metadata": {
        "id": "-IYSXbqyswzs"
      },
      "execution_count": 13,
      "outputs": []
    },
    {
      "cell_type": "code",
      "source": [
        "print(X)"
      ],
      "metadata": {
        "colab": {
          "base_uri": "https://localhost:8080/"
        },
        "id": "kW-NQ652sw15",
        "outputId": "c911e452-9a2f-40ca-9050-2bda07cb297a"
      },
      "execution_count": 14,
      "outputs": [
        {
          "output_type": "stream",
          "name": "stdout",
          "text": [
            "tensor([-30., -29., -28., -27., -26., -25., -24., -23., -22., -21., -20., -19.,\n",
            "        -18., -17., -16., -15., -14., -13., -12., -11., -10.,  -9.,  -8.,  -7.,\n",
            "         -6.,  -5.,  -4.,  -3.,  -2.,  -1.,   0.,   1.,   2.,   3.,   4.,   5.,\n",
            "          6.,   7.,   8.,   9.,  10.,  11.,  12.,  13.,  14.,  15.,  16.,  17.,\n",
            "         18.,  19.,  20.,  21.,  22.,  23.,  24.,  25.,  26.,  27.,  28.,  29.])\n"
          ]
        }
      ]
    },
    {
      "cell_type": "code",
      "source": [
        "print(y)"
      ],
      "metadata": {
        "colab": {
          "base_uri": "https://localhost:8080/"
        },
        "id": "sII4O5Oisw4H",
        "outputId": "cdc52cd6-2891-4ea1-fdd6-0419aabf04e2"
      },
      "execution_count": 15,
      "outputs": [
        {
          "output_type": "stream",
          "name": "stdout",
          "text": [
            "tensor([ 49421.9883,  42022.1172,  40717.7930,  25476.2090,  34406.7070,\n",
            "         17667.6523,  28027.8809,  17930.9238,  20712.1777,  18485.5410,\n",
            "         12468.0645,  16471.6758,    914.4121,  -1327.7910,   9282.9492,\n",
            "          -239.4971,   7667.3750,  12755.6699,   3796.2705,   4883.4478,\n",
            "          5536.9658,  -6970.1621,    831.1367,   3607.5039,   6088.2598,\n",
            "         -8843.9199,  -4880.9678,  -1587.5879,    672.1172,   7248.0957,\n",
            "         -9349.4727,  -6088.2881,  -3975.6992,  -8294.9980,  -9249.7812,\n",
            "          -374.1240,  -7969.1895,   6245.8525,   7445.3818,   3301.6338,\n",
            "          3830.0366,    108.7715,   2569.3623,  -1076.5752,  -2359.6738,\n",
            "        -10367.6396,   3070.9648,  -5084.3945,  -9930.2549,   -783.4033,\n",
            "        -11183.6201, -12532.5410,  -5550.8105, -26563.6367, -16184.5869,\n",
            "        -23425.3125, -30805.6660, -26237.3242, -38248.9766, -36051.5430])\n"
          ]
        }
      ]
    },
    {
      "cell_type": "code",
      "source": [
        "plt.scatter(X, y)"
      ],
      "metadata": {
        "colab": {
          "base_uri": "https://localhost:8080/",
          "height": 283
        },
        "id": "c33_8Gtnsw6C",
        "outputId": "a09fa470-2b4a-4e7d-c769-605020cbd9f3"
      },
      "execution_count": 16,
      "outputs": [
        {
          "output_type": "execute_result",
          "data": {
            "text/plain": [
              "<matplotlib.collections.PathCollection at 0x7fd9e7b28850>"
            ]
          },
          "metadata": {},
          "execution_count": 16
        },
        {
          "output_type": "display_data",
          "data": {
            "text/plain": [
              "<Figure size 432x288 with 1 Axes>"
            ],
            "image/png": "[encoded data removed]"
          },
          "metadata": {
            "needs_background": "light"
          }
        }
      ]
    },
    {
      "cell_type": "code",
      "source": [
        "def poly_trans(X, degree=2):\n",
        "  if len(X.shape) == 1:\n",
        "    X = X.unsqueeze(1)\n",
        "  \n",
        "  ones_col = torch.ones((X.shape[0], 1), dtype=torch.float32)\n",
        "  X_d = torch.cat([ones_col, X], axis=1)\n",
        "  \n",
        "  for i in range(1, degree):\n",
        "    X_pow = X.pow(i + 1)\n",
        "    X_d = torch.cat([X_d, X_pow], axis=1)\n",
        "  \n",
        "  return X_d"
      ],
      "metadata": {
        "id": "TOQnXna2tgvZ"
      },
      "execution_count": 17,
      "outputs": []
    },
    {
      "cell_type": "code",
      "source": [
        "# (x^Tx)^(-1)x^Ty\n",
        "\n",
        "def normal_equation(y_true, X):\n",
        "  '''\n",
        "  Computes the normal equation\n",
        "\n",
        "  Args:\n",
        "    y_true : A torch tensor for the labels\n",
        "    X : A torch tensor for the data\n",
        "  '''\n",
        "\n",
        "  XTX_inv = (X.T.mm(X)).inverse()\n",
        "  XTy = X.T.mm(y_true)\n",
        "  beta = XTX_inv.mm(XTy)\n",
        "  return beta"
      ],
      "metadata": {
        "id": "VqIyvyv1tjNm"
      },
      "execution_count": 19,
      "outputs": []
    },
    {
      "cell_type": "code",
      "source": [
        "x1 = poly_trans(X, degree=1)\n",
        "x2 = poly_trans(X, degree=2)\n",
        "x3 = poly_trans(X, degree=3)\n",
        "x12 = poly_trans(X, degree=12)\n",
        "\n",
        "y_true = y.unsqueeze(1)\n",
        "\n",
        "beta1 = normal_equation(y_true, x1)\n",
        "beta2 = normal_equation(y_true, x2)\n",
        "beta3 = normal_equation(y_true, x3)\n",
        "beta12 = normal_equation(y_true, x12)\n",
        "\n",
        "pred1 = x1.mm(beta1)\n",
        "pred2 = x2.mm(beta2)\n",
        "pred3 = x3.mm(beta3)\n",
        "pred12 = x12.mm(beta12)\n",
        "\n",
        "plt.rcParams['figure.figsize'] = [12, 7]\n",
        "plt.scatter(X, y)\n",
        "\n",
        "plt.plot(X, pred1, c='red', label='linear')\n",
        "plt.plot(X, pred2, c='green', label='poly deg 2')\n",
        "plt.plot(X, pred3, c='blue', label='poly deg 3')\n",
        "plt.plot(X, pred12, c='black', label='poly deg 12')\n",
        "\n",
        "plt.legend(loc='best', ncol=1)"
      ],
      "metadata": {
        "colab": {
          "base_uri": "https://localhost:8080/",
          "height": 446
        },
        "id": "0uk8w-HXtjP3",
        "outputId": "81dccceb-453d-47af-b38c-a2702c626131"
      },
      "execution_count": 22,
      "outputs": [
        {
          "output_type": "execute_result",
          "data": {
            "text/plain": [
              "<matplotlib.legend.Legend at 0x7fd9e7e40b50>"
            ]
          },
          "metadata": {},
          "execution_count": 22
        },
        {
          "output_type": "display_data",
          "data": {
            "text/plain": [
              "<Figure size 864x504 with 1 Axes>"
            ],
            "image/png": "[encoded data removed]"
          },
          "metadata": {
            "needs_background": "light"
          }
        }
      ]
    },
    {
      "cell_type": "code",
      "source": [
        ""
      ],
      "metadata": {
        "id": "1CkZnSAYtgzw"
      },
      "execution_count": null,
      "outputs": []
    },
    {
      "cell_type": "code",
      "source": [
        ""
      ],
      "metadata": {
        "id": "yHLXHyT3tg1h"
      },
      "execution_count": null,
      "outputs": []
    },
    {
      "cell_type": "code",
      "source": [
        ""
      ],
      "metadata": {
        "id": "dVMRLUWQsFfv"
      },
      "execution_count": null,
      "outputs": []
    }
  ]
}