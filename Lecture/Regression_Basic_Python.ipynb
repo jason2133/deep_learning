{
  "nbformat": 4,
  "nbformat_minor": 0,
  "metadata": {
    "colab": {
      "name": "Regression Basic Python.ipynb",
      "provenance": [],
      "collapsed_sections": []
    },
    "kernelspec": {
      "name": "python3",
      "display_name": "Python 3"
    },
    "language_info": {
      "name": "python"
    }
  },
  "cells": [
    {
      "cell_type": "code",
      "execution_count": 1,
      "metadata": {
        "id": "h9RFXt0ABRh1"
      },
      "outputs": [],
      "source": [
        "%matplotlib inline\n",
        "import matplotlib.pyplot as plt\n",
        "import seaborn as sns; sns.set()\n",
        "import numpy as np"
      ]
    },
    {
      "cell_type": "code",
      "source": [
        "### Simple Linear Regression\n",
        "\n",
        "np.random.seed(1)  # set the random seed\n",
        "rng = np.random    # for convenience   rng.rand()  = np.random.rand()\n",
        "x = 10 * rng.rand(50)   # .rand(n) generate n ~ U(0,1)\n",
        "y = 2 * x - 5 + rng.randn(50)  # .randn(n) generate n ~ N(0,1)\n",
        "# if you want to change the s.d. of the normal r.v, you can use rng.normal(scale=sd, size=n)\n",
        "plt.scatter(x, y);"
      ],
      "metadata": {
        "colab": {
          "base_uri": "https://localhost:8080/",
          "height": 268
        },
        "id": "cdm4GlXbBTcU",
        "outputId": "51eb2cb6-7c35-47c6-8a33-e3aa368f55bf"
      },
      "execution_count": 2,
      "outputs": [
        {
          "output_type": "display_data",
          "data": {
            "text/plain": [
              "<Figure size 432x288 with 1 Axes>"
            ],
            "image/png": "[encoded data removed]"
          },
          "metadata": {
            "needs_background": "light"
          }
        }
      ]
    },
    {
      "cell_type": "code",
      "source": [
        "# We can use Scikit-Learn's LinearRegression estimator to fit this data and construct the best-fit line:\n",
        "\n",
        "from sklearn.linear_model import LinearRegression\n",
        "model = LinearRegression(fit_intercept=True)\n",
        "\n",
        "model.fit(x[:, np.newaxis], y) # np.newaxis: add a dimension  make x  (50 x 1) matrix  from 50-dim vec\n",
        "\n",
        "xfit = np.linspace(0, 10, 1000)  #  in R: xfit=seq(0,10,len=1000)  , for plotting\n",
        "yfit = model.predict(xfit[:, np.newaxis])  # fit the new data \"xfit\"\n",
        "\n",
        "plt.scatter(x, y)\n",
        "plt.plot(xfit, yfit);"
      ],
      "metadata": {
        "colab": {
          "base_uri": "https://localhost:8080/",
          "height": 268
        },
        "id": "uqERO8m7BTe5",
        "outputId": "9acf73f6-bf43-4c0f-c3c4-349d50cdd6f9"
      },
      "execution_count": 3,
      "outputs": [
        {
          "output_type": "display_data",
          "data": {
            "text/plain": [
              "<Figure size 432x288 with 1 Axes>"
            ],
            "image/png": "[encoded data removed]"
          },
          "metadata": {
            "needs_background": "light"
          }
        }
      ]
    },
    {
      "cell_type": "code",
      "source": [
        "print(\"Model slope:    \", model.coef_[0])\n",
        "print(\"Model intercept:\", model.intercept_)"
      ],
      "metadata": {
        "colab": {
          "base_uri": "https://localhost:8080/"
        },
        "id": "-irPHeVoBThC",
        "outputId": "021a58e5-62a3-4676-d315-52cb095a7347"
      },
      "execution_count": 4,
      "outputs": [
        {
          "output_type": "stream",
          "name": "stdout",
          "text": [
            "Model slope:     2.0272088103606953\n",
            "Model intercept: -4.998577085553204\n"
          ]
        }
      ]
    },
    {
      "cell_type": "code",
      "source": [
        "### Multiple Linear Regression\n",
        "X = 10 * rng.rand(100, 3)\n",
        "y = 0.5 + np.dot(X, [1.5, -2., 1.])\n",
        "\n",
        "model.fit(X, y)\n",
        "print(model.intercept_)\n",
        "print(model.coef_)\n",
        "\n",
        "y = 0.5 + np.dot(X, [1.5, -2., 1.]) + rng.randn(100)\n",
        "\n",
        "model.fit(X, y)\n",
        "print(model.intercept_)\n",
        "print(model.coef_)"
      ],
      "metadata": {
        "colab": {
          "base_uri": "https://localhost:8080/"
        },
        "id": "qo-vgKidBbeg",
        "outputId": "5251ebc4-a582-4655-dd4a-b97a69e22067"
      },
      "execution_count": 5,
      "outputs": [
        {
          "output_type": "stream",
          "name": "stdout",
          "text": [
            "0.49999999999999556\n",
            "[ 1.5 -2.   1. ]\n",
            "0.5223152386536221\n",
            "[ 1.49049285 -2.06526696  1.06020821]\n"
          ]
        }
      ]
    },
    {
      "cell_type": "code",
      "source": [
        "import torch\n",
        "import numpy as np\n",
        "import matplotlib.pyplot as plt\n",
        "\n",
        "x=torch.tensor(range(5)).reshape(-1,1)+1\n",
        "\n",
        "y=torch.cat([x,5*x],1)\n",
        "print(y)\n",
        "print(y.T.mm(y))\n",
        "z= y.T.mm(y)\n",
        "print(z.inverse())"
      ],
      "metadata": {
        "colab": {
          "base_uri": "https://localhost:8080/",
          "height": 336
        },
        "id": "ge4deEimBgAV",
        "outputId": "dcc4282c-c431-4432-8ae8-69e44155c21f"
      },
      "execution_count": 6,
      "outputs": [
        {
          "output_type": "stream",
          "name": "stdout",
          "text": [
            "tensor([[ 1,  5],\n",
            "        [ 2, 10],\n",
            "        [ 3, 15],\n",
            "        [ 4, 20],\n",
            "        [ 5, 25]])\n",
            "tensor([[  55,  275],\n",
            "        [ 275, 1375]])\n"
          ]
        },
        {
          "output_type": "error",
          "ename": "RuntimeError",
          "evalue": "ignored",
          "traceback": [
            "\u001b[0;31m---------------------------------------------------------------------------\u001b[0m",
            "\u001b[0;31mRuntimeError\u001b[0m                              Traceback (most recent call last)",
            "\u001b[0;32m<ipython-input-6-7396001d67d2>\u001b[0m in \u001b[0;36m<module>\u001b[0;34m()\u001b[0m\n\u001b[1;32m      9\u001b[0m \u001b[0mprint\u001b[0m\u001b[0;34m(\u001b[0m\u001b[0my\u001b[0m\u001b[0;34m.\u001b[0m\u001b[0mT\u001b[0m\u001b[0;34m.\u001b[0m\u001b[0mmm\u001b[0m\u001b[0;34m(\u001b[0m\u001b[0my\u001b[0m\u001b[0;34m)\u001b[0m\u001b[0;34m)\u001b[0m\u001b[0;34m\u001b[0m\u001b[0;34m\u001b[0m\u001b[0m\n\u001b[1;32m     10\u001b[0m \u001b[0mz\u001b[0m\u001b[0;34m=\u001b[0m \u001b[0my\u001b[0m\u001b[0;34m.\u001b[0m\u001b[0mT\u001b[0m\u001b[0;34m.\u001b[0m\u001b[0mmm\u001b[0m\u001b[0;34m(\u001b[0m\u001b[0my\u001b[0m\u001b[0;34m)\u001b[0m\u001b[0;34m\u001b[0m\u001b[0;34m\u001b[0m\u001b[0m\n\u001b[0;32m---> 11\u001b[0;31m \u001b[0mprint\u001b[0m\u001b[0;34m(\u001b[0m\u001b[0mz\u001b[0m\u001b[0;34m.\u001b[0m\u001b[0minverse\u001b[0m\u001b[0;34m(\u001b[0m\u001b[0;34m)\u001b[0m\u001b[0;34m)\u001b[0m\u001b[0;34m\u001b[0m\u001b[0;34m\u001b[0m\u001b[0m\n\u001b[0m",
            "\u001b[0;31mRuntimeError\u001b[0m: \"inverse_cpu\" not implemented for 'Long'"
          ]
        }
      ]
    },
    {
      "cell_type": "code",
      "source": [
        "print((z+0.5*torch.ones(2,2)).inverse())"
      ],
      "metadata": {
        "colab": {
          "base_uri": "https://localhost:8080/"
        },
        "id": "iiMQYxZnBTjV",
        "outputId": "9321bc68-fcd3-4c4a-bde1-1cec9e82dfa7"
      },
      "execution_count": 7,
      "outputs": [
        {
          "output_type": "stream",
          "name": "stdout",
          "text": [
            "tensor([[ 3.1261, -0.6261],\n",
            "        [-0.6261,  0.1261]])\n"
          ]
        }
      ]
    },
    {
      "cell_type": "code",
      "source": [
        "### Polynomial Regression - from scratch with PyTorch\n",
        "import torch\n",
        "import numpy as np\n",
        "import matplotlib.pyplot as plt"
      ],
      "metadata": {
        "id": "4MH-7-YaBhSI"
      },
      "execution_count": 8,
      "outputs": []
    },
    {
      "cell_type": "code",
      "source": [
        "# Generate Data\n",
        "\n",
        "# Defining the range of our distribution\n",
        "X = torch.tensor([i for i in range(-30, 30)]).float()\n",
        "# Function for creating a vector with value between [r1, r2]\n",
        "def randvec(r1, r2, shape):\n",
        "    return (r1 - r2) * torch.rand(shape) + r2\n",
        "# Creating random points from a gaussian with random noise\n",
        "y = randvec(-1e4, 1e4, X.shape) - (1/2) * X + 3 * X.pow(2) - (6/4) * X.pow(3)"
      ],
      "metadata": {
        "id": "LItIaWXRBTlP"
      },
      "execution_count": 9,
      "outputs": []
    },
    {
      "cell_type": "code",
      "source": [
        "plt.scatter(X, y)"
      ],
      "metadata": {
        "colab": {
          "base_uri": "https://localhost:8080/",
          "height": 286
        },
        "id": "Ro55dZlrBmwE",
        "outputId": "d790ec47-8ef5-4fb2-96cd-64895042a560"
      },
      "execution_count": 10,
      "outputs": [
        {
          "output_type": "execute_result",
          "data": {
            "text/plain": [
              "<matplotlib.collections.PathCollection at 0x7f711f72ec90>"
            ]
          },
          "metadata": {},
          "execution_count": 10
        },
        {
          "output_type": "display_data",
          "data": {
            "text/plain": [
              "<Figure size 432x288 with 1 Axes>"
            ],
            "image/png": "[encoded data removed]"
          },
          "metadata": {
            "needs_background": "light"
          }
        }
      ]
    },
    {
      "cell_type": "code",
      "source": [
        "# Transform & Create X\n",
        "\n",
        "def poly_trans(X, degree=2):\n",
        "    if len(X.shape) == 1:\n",
        "        X = X.unsqueeze(1)\n",
        "    ones_col = torch.ones((X.shape[0], 1), dtype=torch.float32)\n",
        "    X_d = torch.cat([ones_col, X], axis=1)\n",
        "    for i in range(1, degree):\n",
        "        X_pow = X.pow(i + 1)\n",
        "        X_d = torch.cat([X_d, X_pow], axis=1)\n",
        "    return X_d\n",
        "\n",
        "print(X)\n",
        "print(poly_trans(X))"
      ],
      "metadata": {
        "colab": {
          "base_uri": "https://localhost:8080/"
        },
        "id": "Tuiikk8mBTnB",
        "outputId": "10699630-ee3b-42dd-d6c9-d6fe26b3b875"
      },
      "execution_count": 11,
      "outputs": [
        {
          "output_type": "stream",
          "name": "stdout",
          "text": [
            "tensor([-30., -29., -28., -27., -26., -25., -24., -23., -22., -21., -20., -19.,\n",
            "        -18., -17., -16., -15., -14., -13., -12., -11., -10.,  -9.,  -8.,  -7.,\n",
            "         -6.,  -5.,  -4.,  -3.,  -2.,  -1.,   0.,   1.,   2.,   3.,   4.,   5.,\n",
            "          6.,   7.,   8.,   9.,  10.,  11.,  12.,  13.,  14.,  15.,  16.,  17.,\n",
            "         18.,  19.,  20.,  21.,  22.,  23.,  24.,  25.,  26.,  27.,  28.,  29.])\n",
            "tensor([[  1., -30., 900.],\n",
            "        [  1., -29., 841.],\n",
            "        [  1., -28., 784.],\n",
            "        [  1., -27., 729.],\n",
            "        [  1., -26., 676.],\n",
            "        [  1., -25., 625.],\n",
            "        [  1., -24., 576.],\n",
            "        [  1., -23., 529.],\n",
            "        [  1., -22., 484.],\n",
            "        [  1., -21., 441.],\n",
            "        [  1., -20., 400.],\n",
            "        [  1., -19., 361.],\n",
            "        [  1., -18., 324.],\n",
            "        [  1., -17., 289.],\n",
            "        [  1., -16., 256.],\n",
            "        [  1., -15., 225.],\n",
            "        [  1., -14., 196.],\n",
            "        [  1., -13., 169.],\n",
            "        [  1., -12., 144.],\n",
            "        [  1., -11., 121.],\n",
            "        [  1., -10., 100.],\n",
            "        [  1.,  -9.,  81.],\n",
            "        [  1.,  -8.,  64.],\n",
            "        [  1.,  -7.,  49.],\n",
            "        [  1.,  -6.,  36.],\n",
            "        [  1.,  -5.,  25.],\n",
            "        [  1.,  -4.,  16.],\n",
            "        [  1.,  -3.,   9.],\n",
            "        [  1.,  -2.,   4.],\n",
            "        [  1.,  -1.,   1.],\n",
            "        [  1.,   0.,   0.],\n",
            "        [  1.,   1.,   1.],\n",
            "        [  1.,   2.,   4.],\n",
            "        [  1.,   3.,   9.],\n",
            "        [  1.,   4.,  16.],\n",
            "        [  1.,   5.,  25.],\n",
            "        [  1.,   6.,  36.],\n",
            "        [  1.,   7.,  49.],\n",
            "        [  1.,   8.,  64.],\n",
            "        [  1.,   9.,  81.],\n",
            "        [  1.,  10., 100.],\n",
            "        [  1.,  11., 121.],\n",
            "        [  1.,  12., 144.],\n",
            "        [  1.,  13., 169.],\n",
            "        [  1.,  14., 196.],\n",
            "        [  1.,  15., 225.],\n",
            "        [  1.,  16., 256.],\n",
            "        [  1.,  17., 289.],\n",
            "        [  1.,  18., 324.],\n",
            "        [  1.,  19., 361.],\n",
            "        [  1.,  20., 400.],\n",
            "        [  1.,  21., 441.],\n",
            "        [  1.,  22., 484.],\n",
            "        [  1.,  23., 529.],\n",
            "        [  1.,  24., 576.],\n",
            "        [  1.,  25., 625.],\n",
            "        [  1.,  26., 676.],\n",
            "        [  1.,  27., 729.],\n",
            "        [  1.,  28., 784.],\n",
            "        [  1.,  29., 841.]])\n"
          ]
        }
      ]
    },
    {
      "cell_type": "code",
      "source": [
        "# (x^Tx)^{-1}x^Ty\n",
        "def normal_equation(y_true, X):\n",
        "    \"\"\"Computes the normal equation\n",
        "    \n",
        "    Args:\n",
        "        y_true: A torch tensor for the labels.\n",
        "        X: A torch tensor for the data.\n",
        "    \"\"\"\n",
        "    XTX_inv = (X.T.mm(X)).inverse()\n",
        "    XTy = X.T.mm(y_true)\n",
        "    beta = XTX_inv.mm(XTy)\n",
        "    return beta"
      ],
      "metadata": {
        "id": "Bu7au202BTpb"
      },
      "execution_count": 12,
      "outputs": []
    },
    {
      "cell_type": "code",
      "source": [
        "x1 = poly_trans(X, degree=1)\n",
        "x2=  poly_trans(X, degree=2)\n",
        "x3 = poly_trans(X, degree=3)\n",
        "x12 = poly_trans(X, degree=12)\n",
        "y_true = y.unsqueeze(1)\n",
        "beta1 = normal_equation(y_true, x1)\n",
        "beta2 = normal_equation(y_true, x2)\n",
        "beta3 = normal_equation(y_true, x3)\n",
        "beta12 = normal_equation(y_true, x12)\n",
        "pred1 = x1.mm(beta1)\n",
        "pred2 = x2.mm(beta2)\n",
        "pred3 = x3.mm(beta3)\n",
        "pred12 = x12.mm(beta12)\n",
        "\n",
        "plt.rcParams['figure.figsize'] = [12, 7]\n",
        "plt.scatter(X,y)\n",
        "plt.plot(X, pred1, c='red', label='linear')\n",
        "plt.plot(X, pred2, c='green', label='poly deg 2')\n",
        "plt.plot(X, pred3, c='blue', label='poly deg 3')\n",
        "plt.plot(X, pred12, c='black', label = 'poly deg 12')\n",
        "\n",
        "plt.legend(loc='best', ncol=1)  "
      ],
      "metadata": {
        "colab": {
          "base_uri": "https://localhost:8080/",
          "height": 449
        },
        "id": "-YNlgvuPBTrl",
        "outputId": "c8da11e8-aa3a-400f-c51d-099cedb64e84"
      },
      "execution_count": 13,
      "outputs": [
        {
          "output_type": "execute_result",
          "data": {
            "text/plain": [
              "<matplotlib.legend.Legend at 0x7f711f653910>"
            ]
          },
          "metadata": {},
          "execution_count": 13
        },
        {
          "output_type": "display_data",
          "data": {
            "text/plain": [
              "<Figure size 864x504 with 1 Axes>"
            ],
            "image/png": "[encoded data removed]"
          },
          "metadata": {
            "needs_background": "light"
          }
        }
      ]
    },
    {
      "cell_type": "code",
      "source": [
        "### Regularization\n",
        "# Ridge\n",
        "\n",
        "def ridge_equation(y_true, X, lam=0):\n",
        "    \"\"\"Computes the normal equation\n",
        "    \n",
        "    Args:\n",
        "        y_true: A torch tensor for the labels.\n",
        "        X: A torch tensor for the data.\n",
        "    \"\"\"\n",
        "    p = X.shape[1]\n",
        "    XTX_inv = (X.T.mm(X)+lam*torch.diag(torch.ones(p))).inverse()\n",
        "    XTy = X.T.mm(y_true)\n",
        "    beta = XTX_inv.mm(XTy)\n",
        "    return beta\n",
        "\n",
        "torch.manual_seed(1)\n",
        "p=10\n",
        "X = 10 * torch.rand(100, p)\n",
        "ones_col = torch.ones((X.shape[0], 1), dtype=torch.float32)\n",
        "X = torch.cat([ones_col, X], axis=1)\n",
        "\n",
        "beta = torch.tensor([-4,1.5, -2., 0.332,3.,-2.,3.,4.,-10.,3.,0.5])\n",
        "y = torch.mv(X, beta) + torch.randn(100)\n",
        "y = y.unsqueeze(1)\n",
        "\n",
        "### Training MSE\n",
        "print('Single Trial (one sample training error)')\n",
        "beta_R = ridge_equation(y, X, lam=1)\n",
        "pred_R = X.mm(beta_R)\n",
        "print('Ridge MSE', (y-pred_R).square().mean())\n",
        "\n",
        "\n",
        "beta_LSE = ridge_equation(y,X,lam=0)\n",
        "pred_LSE = X.mm(beta_LSE)\n",
        "print('LSE MSE', (y-pred_LSE).square().mean())\n",
        "\n",
        "\n",
        "### Test MSE\n",
        "# Keep beta.hat, generate more (x,y)\n",
        "X = 10 * torch.rand(100, p)\n",
        "ones_col = torch.ones((X.shape[0], 1), dtype=torch.float32)\n",
        "X = torch.cat([ones_col, X], axis=1)\n",
        "\n",
        "y = torch.mv(X, beta) + torch.randn(100)\n",
        "y = y.unsqueeze(1)\n",
        "\n",
        "# don't update beta.hat\n",
        "pred_R = X.mm(beta_R)\n",
        "print('\\nSingle Trial (test error with 100 new obs. (one sample of size 100))')\n",
        "print('Ridge MSE', (y-pred_R).square().mean())\n",
        "\n",
        "pred_LSE = X.mm(beta_LSE)\n",
        "print('LSE MSE', (y-pred_LSE).square().mean())\n",
        "\n",
        "### Test MSE from more samples\n",
        "torch.manual_seed(1)\n",
        "niter = 200\n",
        "Train_MSE_R = torch.zeros(1)\n",
        "Train_MSE_LSE = torch.zeros(1)\n",
        "MSE_R=torch.zeros(1)\n",
        "MSE_LSE = torch.zeros(1)\n",
        "for i in range(niter):\n",
        "    X = 10 * torch.rand(100, p)\n",
        "    ones_col = torch.ones((X.shape[0], 1), dtype=torch.float32)\n",
        "    X = torch.cat([ones_col, X], axis=1)\n",
        "    y = torch.mv(X, beta) + torch.randn(100)\n",
        "    y = y.unsqueeze(1)\n",
        "    \n",
        "    # get beta.hat from the training\n",
        "\n",
        "    beta_R = ridge_equation(y, X, lam=1)\n",
        "    beta_LSE = ridge_equation(y,X,lam=0)\n",
        "    \n",
        "    pred_R = X.mm(beta_R)\n",
        "    pred_LSE = X.mm(beta_LSE)\n",
        "    \n",
        "    Train_MSE_R += (y-pred_R).square().mean() \n",
        "    Train_MSE_LSE += (y-pred_LSE).square().mean()\n",
        "    \n",
        "    # generate test set\n",
        "    X = 10 * torch.rand(100, p)\n",
        "    ones_col = torch.ones((X.shape[0], 1), dtype=torch.float32)\n",
        "    X = torch.cat([ones_col, X], axis=1)\n",
        "    y = torch.mv(X, beta) + torch.randn(100)\n",
        "    y = y.unsqueeze(1)\n",
        "    \n",
        "    # predict test y using the beta from training data\n",
        "    pred_R = X.mm(beta_R)\n",
        "    pred_LSE = X.mm(beta_LSE)\n",
        "    \n",
        "    MSE_R += (y-pred_R).square().mean() \n",
        "    MSE_LSE += (y-pred_LSE).square().mean()\n",
        "    \n",
        "print('\\nTraining MSE from',niter,'samples')\n",
        "print(\"Ridge\", Train_MSE_R/niter)\n",
        "print(\"LSE\", Train_MSE_LSE/niter)\n",
        "\n",
        "\n",
        "print('\\nTest MSE from',niter,'samples')\n",
        "print(\"Ridge\", MSE_R/niter)\n",
        "print(\"LSE\", MSE_LSE/niter)"
      ],
      "metadata": {
        "colab": {
          "base_uri": "https://localhost:8080/"
        },
        "id": "d7IYy9mtBtPR",
        "outputId": "c5ac0d5b-71d5-46ff-9214-76654d1a1a3b"
      },
      "execution_count": 14,
      "outputs": [
        {
          "output_type": "stream",
          "name": "stdout",
          "text": [
            "Single Trial (one sample training error)\n",
            "Ridge MSE tensor(0.7464)\n",
            "LSE MSE tensor(0.7203)\n",
            "\n",
            "Single Trial (test error with 100 new obs. (one sample of size 100))\n",
            "Ridge MSE tensor(1.2454)\n",
            "LSE MSE tensor(1.2792)\n",
            "\n",
            "Training MSE from 200 samples\n",
            "Ridge tensor([0.9272])\n",
            "LSE tensor([0.8935])\n",
            "\n",
            "Test MSE from 200 samples\n",
            "Ridge tensor([1.1697])\n",
            "LSE tensor([1.1367])\n"
          ]
        }
      ]
    },
    {
      "cell_type": "code",
      "source": [
        "# Ridge multicollinearity\n",
        "\n",
        "def model_mult(n, beta):\n",
        "    X = 10 * torch.rand(n, 10)\n",
        "    X[:,1:3] = X[:,4:6] + 0.01* torch.randn(n,2)\n",
        "    ones_col = torch.ones((X.shape[0], 1), dtype=torch.float32)\n",
        "    X = torch.cat([ones_col, X], axis=1)\n",
        "\n",
        "\n",
        "    y = torch.mv(X, beta) + torch.randn(n)\n",
        "    y = y.unsqueeze(1)\n",
        "    return X, y\n",
        "\n",
        "torch.manual_seed(1)\n",
        "beta = torch.tensor([-4,9., -7.,10.,-5.2,3, 11.5,6.3,4.,3.,-9.])\n",
        "X, y = model_mult(100, beta)\n",
        "\n",
        "lam =10\n",
        "print('Single Trial (one sample)')\n",
        "beta_R = ridge_equation(y, X, lam=lam)\n",
        "pred_R = X.mm(beta_R)\n",
        "print('Ridge MSE', (y-pred_R).square().mean())\n",
        "\n",
        "\n",
        "beta_LSE = ridge_equation(y,X,lam=0)\n",
        "pred_LSE = X.mm(beta_LSE)\n",
        "print('LSE MSE', (y-pred_LSE).square().mean())\n",
        "\n",
        "\n",
        "niter = 200\n",
        "Train_MSE_R = torch.zeros(1)\n",
        "Train_MSE_LSE = torch.zeros(1)\n",
        "MSE_R=torch.zeros(1)\n",
        "MSE_LSE = torch.zeros(1)\n",
        "beta = torch.tensor([-4,9., -7.,10.,-5.2,3, 11.5,6.3,4.,3.,-9.])\n",
        "\n",
        "torch.manual_seed(1)\n",
        "for i in range(niter):\n",
        "    X, y = model_mult(100, beta)\n",
        "    \n",
        "    # get beta.hat from the training\n",
        "\n",
        "    beta_R = ridge_equation(y, X, lam=lam)\n",
        "    beta_LSE = ridge_equation(y,X,lam=0)\n",
        "    \n",
        "    pred_R = X.mm(beta_R)\n",
        "    pred_LSE = X.mm(beta_LSE)\n",
        "    \n",
        "    Train_MSE_R += (y-pred_R).square().mean() \n",
        "    Train_MSE_LSE += (y-pred_LSE).square().mean()\n",
        "    \n",
        "    # generate test set\n",
        "    X, y = model_mult(100, beta)\n",
        "    \n",
        "    # predict test y using the beta from training data\n",
        "    pred_R = X.mm(beta_R)\n",
        "    pred_LSE = X.mm(beta_LSE)\n",
        "    \n",
        "    MSE_R += (y-pred_R).square().mean() \n",
        "    MSE_LSE += (y-pred_LSE).square().mean()\n",
        "    \n",
        "print('\\nTraining MSE from',niter,'samples')\n",
        "print(\"Ridge\", Train_MSE_R/niter)\n",
        "print(\"LSE\", Train_MSE_LSE/niter)\n",
        "\n",
        "\n",
        "print('\\nTest MSE from',niter,'samples')\n",
        "print(\"Ridge\", MSE_R/niter)\n",
        "print(\"LSE\", MSE_LSE/niter)"
      ],
      "metadata": {
        "colab": {
          "base_uri": "https://localhost:8080/"
        },
        "id": "iGcwIRDsBTtm",
        "outputId": "c1dec7f2-af54-47a8-d4b2-3f1f1525de56"
      },
      "execution_count": 15,
      "outputs": [
        {
          "output_type": "stream",
          "name": "stdout",
          "text": [
            "Single Trial (one sample)\n",
            "Ridge MSE tensor(1.8786)\n",
            "LSE MSE tensor(2.0638)\n",
            "\n",
            "Training MSE from 200 samples\n",
            "Ridge tensor([1.7486])\n",
            "LSE tensor([50.5699])\n",
            "\n",
            "Test MSE from 200 samples\n",
            "Ridge tensor([2.0229])\n",
            "LSE tensor([50.8492])\n"
          ]
        }
      ]
    },
    {
      "cell_type": "code",
      "source": [
        "# Ridge k-fold CV\n",
        "### Find the best λ\n",
        "\n",
        "n = X.shape[0]; k=10\n",
        "# k-fold IDEA\n",
        "# 1. k-Partition \n",
        "folds = np.resize(range(k),n)\n",
        "print('assign partition # for each index', folds)  # folds[i]: i-th observation's fold\n",
        "folds = folds[torch.randperm(n)]  # shuffle the folds\n",
        "print('add randomness: ', folds)\n",
        "# 2. Extract indices for each partition\n",
        "\n",
        "# partition 0\n",
        "print(\"Test\",np.where(folds==0))\n",
        "print(\"Training\",np.where(folds!=0))\n",
        "\n",
        "# partition 1\n",
        "print(\"Test\",np.where(folds==1))\n",
        "print(\"Training\", np.where(folds!=1))"
      ],
      "metadata": {
        "colab": {
          "base_uri": "https://localhost:8080/"
        },
        "id": "iI3_E36iB1HN",
        "outputId": "8bbb2de6-728d-4ab1-d36d-13860a9ad83b"
      },
      "execution_count": 16,
      "outputs": [
        {
          "output_type": "stream",
          "name": "stdout",
          "text": [
            "assign partition # for each index [0 1 2 3 4 5 6 7 8 9 0 1 2 3 4 5 6 7 8 9 0 1 2 3 4 5 6 7 8 9 0 1 2 3 4 5 6\n",
            " 7 8 9 0 1 2 3 4 5 6 7 8 9 0 1 2 3 4 5 6 7 8 9 0 1 2 3 4 5 6 7 8 9 0 1 2 3\n",
            " 4 5 6 7 8 9 0 1 2 3 4 5 6 7 8 9 0 1 2 3 4 5 6 7 8 9]\n",
            "add randomness:  [1 1 5 4 8 1 0 0 1 5 0 1 6 2 9 7 0 3 7 0 6 6 6 9 9 4 7 2 2 2 8 3 1 8 5 3 6\n",
            " 0 7 6 4 7 9 7 2 5 9 3 3 9 5 9 1 5 7 7 8 0 6 8 5 4 1 3 0 9 8 7 4 3 4 4 3 4\n",
            " 8 5 2 2 4 1 3 2 6 8 5 0 1 9 3 9 8 0 5 2 7 4 6 2 6 8]\n",
            "Test (array([ 6,  7, 10, 16, 19, 37, 57, 64, 85, 91]),)\n",
            "Training (array([ 0,  1,  2,  3,  4,  5,  8,  9, 11, 12, 13, 14, 15, 17, 18, 20, 21,\n",
            "       22, 23, 24, 25, 26, 27, 28, 29, 30, 31, 32, 33, 34, 35, 36, 38, 39,\n",
            "       40, 41, 42, 43, 44, 45, 46, 47, 48, 49, 50, 51, 52, 53, 54, 55, 56,\n",
            "       58, 59, 60, 61, 62, 63, 65, 66, 67, 68, 69, 70, 71, 72, 73, 74, 75,\n",
            "       76, 77, 78, 79, 80, 81, 82, 83, 84, 86, 87, 88, 89, 90, 92, 93, 94,\n",
            "       95, 96, 97, 98, 99]),)\n",
            "Test (array([ 0,  1,  5,  8, 11, 32, 52, 62, 79, 86]),)\n",
            "Training (array([ 2,  3,  4,  6,  7,  9, 10, 12, 13, 14, 15, 16, 17, 18, 19, 20, 21,\n",
            "       22, 23, 24, 25, 26, 27, 28, 29, 30, 31, 33, 34, 35, 36, 37, 38, 39,\n",
            "       40, 41, 42, 43, 44, 45, 46, 47, 48, 49, 50, 51, 53, 54, 55, 56, 57,\n",
            "       58, 59, 60, 61, 63, 64, 65, 66, 67, 68, 69, 70, 71, 72, 73, 74, 75,\n",
            "       76, 77, 78, 80, 81, 82, 83, 84, 85, 87, 88, 89, 90, 91, 92, 93, 94,\n",
            "       95, 96, 97, 98, 99]),)\n"
          ]
        }
      ]
    },
    {
      "cell_type": "code",
      "source": [
        "torch.manual_seed(1)\n",
        "X, y = model_mult(100, beta)  # just a random sample -- without seed\n",
        "# Let's use the above idea\n",
        "# we will choose the lambda among\n",
        "ngrid= 15\n",
        "lambda_grid = torch.from_numpy(np.logspace(10^(-10),10,ngrid))\n",
        "\n",
        "# set the partition\n",
        "folds = torch.from_numpy(np.resize(range(k),n))\n",
        "folds = folds[torch.randperm(n)]  # shuffle the folds\n",
        "k_mse = torch.zeros(ngrid,2,k)\n",
        "# compute MSE for each lambda\n",
        "for i in range(ngrid):\n",
        "    lam = lambda_grid[i]\n",
        "    # compute the MSE using kfold\n",
        "    for fold in range(k):\n",
        "        train_indx = np.where(folds!=fold)\n",
        "        test_indx =  np.where(folds==fold)\n",
        "        y_train = y[train_indx]\n",
        "        X_train = torch.squeeze(X[train_indx,:])\n",
        "        y_test = y[test_indx]\n",
        "        X_test =  torch.squeeze(X[test_indx,:])\n",
        "        beta_R = ridge_equation(y_train, X_train, lam=lam)\n",
        "        beta_LSE = ridge_equation(y_train, X_train, lam=0)\n",
        "        test_pred_R = X_test.mm(beta_R)\n",
        "        test_pred_LSE = X_test.mm(beta_LSE)\n",
        "        k_mse[i,0,fold] = (y_test-test_pred_R).sum().square()/y_test.shape[0]\n",
        "        k_mse[i,1,fold] = (y_test-test_pred_LSE).sum().square()/y_test.shape[0]\n",
        "\n",
        "# take mean over k-fold\n",
        "print(k_mse.shape)\n",
        "out = torch.mean(k_mse, dim=2) \n",
        "print(out)\n",
        "plt.scatter(np.linspace(-10,10,ngrid),out[:,0])\n",
        "plt.xlabel('log_10')\n",
        "plt.plot(np.linspace(-10,10,ngrid), out[:,0], c='red', label='linear')\n",
        "\n",
        "\n",
        "print(torch.argmin(out,dim=0))\n",
        "print(\"best lambda:\",lambda_grid[3])"
      ],
      "metadata": {
        "colab": {
          "base_uri": "https://localhost:8080/",
          "height": 813
        },
        "id": "KcimXb0gBTv3",
        "outputId": "ea4022e2-1221-46be-e5f2-c1e2f6bf600a"
      },
      "execution_count": 17,
      "outputs": [
        {
          "output_type": "stream",
          "name": "stderr",
          "text": [
            "/usr/local/lib/python3.7/dist-packages/ipykernel_launcher.py:20: UserWarning: Creating a tensor from a list of numpy.ndarrays is extremely slow. Please consider converting the list to a single numpy.ndarray with numpy.array() before converting to a tensor. (Triggered internally at  ../torch/csrc/utils/tensor_new.cpp:201.)\n"
          ]
        },
        {
          "output_type": "stream",
          "name": "stdout",
          "text": [
            "torch.Size([15, 2, 10])\n",
            "tensor([[3.8766e+02, 2.5356e+02],\n",
            "        [9.0285e+01, 2.5356e+02],\n",
            "        [7.6548e+00, 2.5356e+02],\n",
            "        [1.3556e+00, 2.5356e+02],\n",
            "        [6.3262e-01, 2.5356e+02],\n",
            "        [1.7127e+00, 2.5356e+02],\n",
            "        [8.7456e+01, 2.5356e+02],\n",
            "        [2.7527e+03, 2.5356e+02],\n",
            "        [2.0596e+04, 2.5356e+02],\n",
            "        [9.7911e+04, 2.5356e+02],\n",
            "        [1.3838e+05, 2.5356e+02],\n",
            "        [1.4389e+05, 2.5356e+02],\n",
            "        [1.4446e+05, 2.5356e+02],\n",
            "        [1.4452e+05, 2.5356e+02],\n",
            "        [1.4452e+05, 2.5356e+02]])\n",
            "tensor([4, 0])\n",
            "best lambda: tensor(0.1000, dtype=torch.float64)\n"
          ]
        },
        {
          "output_type": "display_data",
          "data": {
            "text/plain": [
              "<Figure size 864x504 with 1 Axes>"
            ],
            "image/png": "[encoded data removed]"
          },
          "metadata": {
            "needs_background": "light"
          }
        }
      ]
    },
    {
      "cell_type": "code",
      "source": [
        "# Rerun the model\n",
        "\n",
        "niter = 200\n",
        "Train_MSE_R = torch.zeros(1)\n",
        "Train_MSE_LSE = torch.zeros(1)\n",
        "MSE_R=torch.zeros(1)\n",
        "MSE_LSE = torch.zeros(1)\n",
        "beta = torch.tensor([-4,9., -7.,10.,-5.2,3, 11.5,6.3,4.,3.,-9.])\n",
        "\n",
        "torch.manual_seed(1)\n",
        "lam = 0.1\n",
        "for i in range(niter):\n",
        "    X, y = model_mult(100, beta)\n",
        "    \n",
        "    # get beta.hat from the training\n",
        "\n",
        "    beta_R = ridge_equation(y, X, lam=lam)\n",
        "    beta_LSE = ridge_equation(y,X,lam=0)\n",
        "    \n",
        "    pred_R = X.mm(beta_R)\n",
        "    pred_LSE = X.mm(beta_LSE)\n",
        "    \n",
        "    Train_MSE_R += (y-pred_R).square().mean() \n",
        "    Train_MSE_LSE += (y-pred_LSE).square().mean()\n",
        "    \n",
        "    # generate test set\n",
        "    X, y = model_mult(100, beta)\n",
        "    \n",
        "    # predict test y using the beta from training data\n",
        "    pred_R = X.mm(beta_R)\n",
        "    pred_LSE = X.mm(beta_LSE)\n",
        "    \n",
        "    MSE_R += (y-pred_R).square().mean() \n",
        "    MSE_LSE += (y-pred_LSE).square().mean()\n",
        "    \n",
        "print('\\nTraining MSE from',niter,'samples')\n",
        "print(\"Ridge\", Train_MSE_R/niter)\n",
        "print(\"LSE\", Train_MSE_LSE/niter)\n",
        "\n",
        "\n",
        "print('\\nTest MSE from',niter,'samples')\n",
        "print(\"Ridge\", MSE_R/niter)\n",
        "print(\"LSE\", MSE_LSE/niter)"
      ],
      "metadata": {
        "colab": {
          "base_uri": "https://localhost:8080/"
        },
        "id": "1NZxg1LoBTyC",
        "outputId": "803ebc6d-3e01-4cd0-b4b7-2fb13a33c4bc"
      },
      "execution_count": 18,
      "outputs": [
        {
          "output_type": "stream",
          "name": "stdout",
          "text": [
            "\n",
            "Training MSE from 200 samples\n",
            "Ridge tensor([1.0355])\n",
            "LSE tensor([50.5699])\n",
            "\n",
            "Test MSE from 200 samples\n",
            "Ridge tensor([1.2268])\n",
            "LSE tensor([50.8492])\n"
          ]
        }
      ]
    },
    {
      "cell_type": "code",
      "source": [
        "### Classification basic\n",
        "# Logistic Regression\n",
        "\n",
        "iris = sns.load_dataset('iris')  # load iris dataset in seaborn\n",
        "print('iris\\n',iris.head())\n",
        "X = iris.drop('species', axis=1)  # drop the species column(axis=1)\n",
        "print('\\n X \\n',X.head())\n",
        "y = iris['species']\n",
        "print('\\n y\\n',y)\n",
        "print('\\n unique y\\n',np.unique(y))"
      ],
      "metadata": {
        "colab": {
          "base_uri": "https://localhost:8080/"
        },
        "id": "zkYjNeNbBT0M",
        "outputId": "a399fba4-0ff8-4bf5-f714-45edc9985b4a"
      },
      "execution_count": 19,
      "outputs": [
        {
          "output_type": "stream",
          "name": "stdout",
          "text": [
            "iris\n",
            "    sepal_length  sepal_width  petal_length  petal_width species\n",
            "0           5.1          3.5           1.4          0.2  setosa\n",
            "1           4.9          3.0           1.4          0.2  setosa\n",
            "2           4.7          3.2           1.3          0.2  setosa\n",
            "3           4.6          3.1           1.5          0.2  setosa\n",
            "4           5.0          3.6           1.4          0.2  setosa\n",
            "\n",
            " X \n",
            "    sepal_length  sepal_width  petal_length  petal_width\n",
            "0           5.1          3.5           1.4          0.2\n",
            "1           4.9          3.0           1.4          0.2\n",
            "2           4.7          3.2           1.3          0.2\n",
            "3           4.6          3.1           1.5          0.2\n",
            "4           5.0          3.6           1.4          0.2\n",
            "\n",
            " y\n",
            " 0         setosa\n",
            "1         setosa\n",
            "2         setosa\n",
            "3         setosa\n",
            "4         setosa\n",
            "         ...    \n",
            "145    virginica\n",
            "146    virginica\n",
            "147    virginica\n",
            "148    virginica\n",
            "149    virginica\n",
            "Name: species, Length: 150, dtype: object\n",
            "\n",
            " unique y\n",
            " ['setosa' 'versicolor' 'virginica']\n"
          ]
        }
      ]
    },
    {
      "cell_type": "code",
      "source": [
        "# transform y - 0,1,2,..\n",
        "from sklearn.preprocessing import LabelEncoder    \n",
        "classle = LabelEncoder()\n",
        "y = classle.fit_transform(iris['species'].values) \n",
        "print(y)\n",
        "print(np.unique(y))"
      ],
      "metadata": {
        "colab": {
          "base_uri": "https://localhost:8080/"
        },
        "id": "A58QwctvBT2e",
        "outputId": "23a2025f-0545-4846-c2f5-cdeab3b9a38a"
      },
      "execution_count": 20,
      "outputs": [
        {
          "output_type": "stream",
          "name": "stdout",
          "text": [
            "[0 0 0 0 0 0 0 0 0 0 0 0 0 0 0 0 0 0 0 0 0 0 0 0 0 0 0 0 0 0 0 0 0 0 0 0 0\n",
            " 0 0 0 0 0 0 0 0 0 0 0 0 0 1 1 1 1 1 1 1 1 1 1 1 1 1 1 1 1 1 1 1 1 1 1 1 1\n",
            " 1 1 1 1 1 1 1 1 1 1 1 1 1 1 1 1 1 1 1 1 1 1 1 1 1 1 2 2 2 2 2 2 2 2 2 2 2\n",
            " 2 2 2 2 2 2 2 2 2 2 2 2 2 2 2 2 2 2 2 2 2 2 2 2 2 2 2 2 2 2 2 2 2 2 2 2 2\n",
            " 2 2]\n",
            "[0 1 2]\n"
          ]
        }
      ]
    },
    {
      "cell_type": "code",
      "source": [
        "#  split train/test from the dataset.\n",
        "from sklearn.model_selection import train_test_split\n",
        "X_train, X_test, y_train, y_test = train_test_split(X, y, test_size=0.3,\n",
        "                                                    random_state=1, stratify=y)\n",
        "print(\"X\", X.shape)\n",
        "print(\"y\", y.shape)\n",
        "print(\"X_train\", X_train.shape)\n",
        "print(\"y_test\", y_test.shape)\n",
        "\n",
        "print('y',np.unique(y, return_counts=True))\n",
        "print('y train',np.unique(y_test, return_counts=True))\n",
        "print('y test', np.unique(y_train, return_counts=True))  # stratify=y"
      ],
      "metadata": {
        "colab": {
          "base_uri": "https://localhost:8080/"
        },
        "id": "QgfEuA17CFyo",
        "outputId": "ceaff78d-3a96-423b-c902-a27e8e812a41"
      },
      "execution_count": 21,
      "outputs": [
        {
          "output_type": "stream",
          "name": "stdout",
          "text": [
            "X (150, 4)\n",
            "y (150,)\n",
            "X_train (105, 4)\n",
            "y_test (45,)\n",
            "y (array([0, 1, 2]), array([50, 50, 50]))\n",
            "y train (array([0, 1, 2]), array([15, 15, 15]))\n",
            "y test (array([0, 1, 2]), array([35, 35, 35]))\n"
          ]
        }
      ]
    },
    {
      "cell_type": "code",
      "source": [
        "# Logistic regression\n",
        "from sklearn.linear_model import LogisticRegression\n",
        "Logit = LogisticRegression(penalty='none', multi_class='ovr') # one-vs-rest  \n",
        "Logit.fit(X_train, y_train)\n",
        "y_train_pred = Logit.predict(X_train)\n",
        "y_test_pred = Logit.predict(X_test)\n",
        "y_test_pred_proba=Logit.predict_proba(X_test)\n",
        "print(y_test_pred[:5])\n",
        "print(y_test_pred_proba[:5])\n",
        "from sklearn.metrics import accuracy_score\n",
        "print('test acc:', accuracy_score(y_test,y_test_pred))   \n",
        "print('train acc:', accuracy_score(y_train,y_train_pred)) \n",
        "from sklearn.metrics import confusion_matrix\n",
        "print(confusion_matrix(y_test, y_test_pred)) \n",
        "print(Logit.coef_)"
      ],
      "metadata": {
        "colab": {
          "base_uri": "https://localhost:8080/"
        },
        "id": "jNZEMlLrCF02",
        "outputId": "9933f0b8-63ae-4c56-f231-844c9ef89d8a"
      },
      "execution_count": 22,
      "outputs": [
        {
          "output_type": "stream",
          "name": "stdout",
          "text": [
            "[2 0 0 1 1]\n",
            "[[1.62425184e-13 7.90249658e-02 9.20975034e-01]\n",
            " [9.81128025e-01 1.88719751e-02 1.12628045e-23]\n",
            " [8.84199501e-01 1.15800499e-01 8.96706960e-24]\n",
            " [3.75750353e-12 5.91634598e-01 4.08365402e-01]\n",
            " [1.91398015e-07 9.99778761e-01 2.21047480e-04]]\n",
            "test acc: 0.9777777777777777\n",
            "train acc: 0.9523809523809523\n",
            "[[15  0  0]\n",
            " [ 0 15  0]\n",
            " [ 0  1 14]]\n",
            "[[  1.99396921   6.27889333 -10.03921378  -4.35345532]\n",
            " [ -1.58817478  -2.15128808   2.03645255  -3.03914125]\n",
            " [ -0.91225951  -6.39943973   8.16311802  16.04518619]]\n"
          ]
        }
      ]
    },
    {
      "cell_type": "code",
      "source": [
        "# Regularization\n",
        "\n",
        "Logit = LogisticRegression(C=1e2, multi_class='ovr', max_iter=300) # C= 1/λ,  one-vs-rest  \n",
        "Logit.fit(X_train, y_train)\n",
        "y_train_pred = Logit.predict(X_train)\n",
        "y_test_pred = Logit.predict(X_test)\n",
        "y_test_pred_proba=Logit.predict_proba(X_test)\n",
        "print(y_test_pred[:5])\n",
        "print(y_test_pred_proba[:5])\n",
        "from sklearn.metrics import accuracy_score\n",
        "print('test acc:', accuracy_score(y_test,y_test_pred))   \n",
        "print('train acc:', accuracy_score(y_train,y_train_pred)) \n",
        "from sklearn.metrics import confusion_matrix\n",
        "print(confusion_matrix(y_test, y_test_pred)) \n",
        "print(Logit.coef_)"
      ],
      "metadata": {
        "colab": {
          "base_uri": "https://localhost:8080/"
        },
        "id": "-h2PMY70CF3J",
        "outputId": "cdeeead2-5a70-4c9a-8df9-625ad46130d4"
      },
      "execution_count": 23,
      "outputs": [
        {
          "output_type": "stream",
          "name": "stdout",
          "text": [
            "[2 0 0 1 1]\n",
            "[[1.58069040e-07 8.08355630e-02 9.19164279e-01]\n",
            " [9.80729791e-01 1.92702092e-02 1.44032616e-16]\n",
            " [8.83660214e-01 1.16339786e-01 1.09742723e-16]\n",
            " [1.10125474e-05 6.10622960e-01 3.89366027e-01]\n",
            " [1.69869263e-04 9.94696666e-01 5.13346497e-03]]\n",
            "test acc: 0.9777777777777777\n",
            "train acc: 0.9523809523809523\n",
            "[[15  0  0]\n",
            " [ 0 15  0]\n",
            " [ 0  1 14]]\n",
            "[[-0.76671984  2.09831221 -4.68649463 -1.9094582 ]\n",
            " [-1.55950151 -2.15532289  1.99096135 -2.96098118]\n",
            " [-0.79884463 -4.12128048  6.23015952  9.97751475]]\n"
          ]
        }
      ]
    },
    {
      "cell_type": "code",
      "source": [
        ""
      ],
      "metadata": {
        "id": "Z-_bRPqdBT4f"
      },
      "execution_count": null,
      "outputs": []
    }
  ]
}